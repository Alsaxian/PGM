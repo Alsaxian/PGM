{
 "cells": [
  {
   "cell_type": "markdown",
   "metadata": {},
   "source": [
    "# TP -  Introduction to Pytorch\n",
    "\n",
    "\n",
    "## Tensors, Back-propagation, Hand-written digit recognition,  Language modeling\n",
    "*************************************************************\n",
    "\n",
    "**Recommended Reading:**\n",
    "\n",
    "http://pytorch.org/tutorials/beginner/blitz/tensor_tutorial.html"
   ]
  },
  {
   "cell_type": "markdown",
   "metadata": {},
   "source": [
    "## Dans ce fichier se trouve notre solution pour l'exercice MNIST du TP d'intro."
   ]
  },
  {
   "cell_type": "markdown",
   "metadata": {
    "collapsed": true
   },
   "source": [
    "Une version en TensorFlow est décrite sur http://blog.xebia.fr/2017/04/11/tensorflow-deep-learning-episode-3-modifiez-votre-reseau-de-neurones-en-toute-simplicite/ \n",
    "\n",
    "# MNIST\n",
    "\n",
    "Vous allez maintenant utiliser les fonctions haut niveau de pytorch: torch.nn, torch.optim etc. Des exemples d'implémentation d'un réseau de neurones sont trouvables sur\n",
    " \n",
    " http://pytorch.org/tutorials/beginner/blitz/neural_networks_tutorial.html\n",
    " \n",
    " http://blog.gaurav.im/2017/04/24/a-gentle-intro-to-pytorch/\n",
    " \n",
    " http://pytorch.org/tutorials/beginner/blitz/cifar10_tutorial.html\n",
    " \n",
    " http://www.xavierdupre.fr/app/ensae_teaching_cs/helpsphinx/notebooks/210_Convolution_MNIST.html#convolutionmnistrst\n",
    " \n",
    " http://blog.xebia.fr/2017/04/11/tensorflow-deep-learning-episode-3-modifiez-votre-reseau-de-neurones-en-toute-simplicite/ (en TensorFlow)\n",
    " \n",
    "\n",
    "On commence par charger les données:"
   ]
  },
  {
   "cell_type": "code",
   "execution_count": 2,
   "metadata": {
    "collapsed": true
   },
   "outputs": [],
   "source": [
    "import numpy as np\n",
    "import matplotlib.pyplot as plt\n",
    "%matplotlib inline\n",
    "\n",
    "import torch.utils.data as data\n",
    "from PIL import Image\n",
    "import os\n",
    "import os.path\n",
    "import errno\n",
    "import torch\n",
    "import codecs\n",
    "\n",
    "from torchvision import datasets, transforms\n",
    "\n",
    "mnist_folder = './MNIST_data/'\n",
    "\n",
    "train_data = datasets.MNIST(root=mnist_folder, download=True, transform=transforms.ToTensor(), train=True)\n",
    "test_data = datasets.MNIST(root=mnist_folder, download=True, transform=transforms.ToTensor(), train=False)"
   ]
  },
  {
   "cell_type": "code",
   "execution_count": 3,
   "metadata": {},
   "outputs": [
    {
     "name": "stdout",
     "output_type": "stream",
     "text": [
      "Nombre d'images dans le train set: 60000\n",
      "Nombre d'images dans le train set: 10000\n"
     ]
    }
   ],
   "source": [
    "print(\"Nombre d'images dans le train set:\", len(train_data))\n",
    "print(\"Nombre d'images dans le train set:\", len(test_data))"
   ]
  },
  {
   "cell_type": "markdown",
   "metadata": {},
   "source": [
    "### Afficher quelques images"
   ]
  },
  {
   "cell_type": "code",
   "execution_count": 100,
   "metadata": {},
   "outputs": [
    {
     "data": {
      "image/png": "[encoded data removed]",
      "text/plain": [
       "<matplotlib.figure.Figure at 0x1a94eef40b8>"
      ]
     },
     "metadata": {},
     "output_type": "display_data"
    }
   ],
   "source": [
    "fig, axes = plt.subplots(nrows=2, ncols=5, figsize=(8, 4), squeeze=False)\n",
    "seed = 733 # changer la seed pour afficher d'autres images\n",
    "\n",
    "for i in range(10):\n",
    "    r = i // 5\n",
    "    c = i % 5\n",
    "    np.random.seed(seed+i)\n",
    "    idx = np.random.choice(len(train_data), 1)[0]\n",
    "    x = train_data[idx][0].numpy() # numpy array de dim 3, avec 1*28*28 valeurs dans [0, 1]\n",
    "    y = train_data[idx][1] # numéro entre 0 et 9\n",
    "    axes[r, c].imshow(x[0, :, :])\n",
    "    axes[r, c].set_title('y = {}'.format(y))\n",
    "    \n",
    "plt.show()"
   ]
  },
  {
   "cell_type": "markdown",
   "metadata": {},
   "source": [
    "### Modèle initial"
   ]
  },
  {
   "cell_type": "code",
   "execution_count": 101,
   "metadata": {},
   "outputs": [
    {
     "name": "stdout",
     "output_type": "stream",
     "text": [
      "Epoch 1...\n"
     ]
    },
    {
     "name": "stderr",
     "output_type": "stream",
     "text": [
      "C:\\ProgramData\\Anaconda3\\lib\\site-packages\\ipykernel_launcher.py:28: UserWarning: Implicit dimension choice for log_softmax has been deprecated. Change the call to include dim=X as an argument.\n"
     ]
    },
    {
     "name": "stdout",
     "output_type": "stream",
     "text": [
      "Train negative log-likelihood: 0.362772\n",
      "Test  negative log-likelihood: 0.294563 0/1 error: 0.083200\n",
      "Epoch 2...\n",
      "Train negative log-likelihood: 0.302695\n",
      "Test  negative log-likelihood: 0.290107 0/1 error: 0.080900\n",
      "Epoch 3...\n",
      "Train negative log-likelihood: 0.291658\n",
      "Test  negative log-likelihood: 0.288073 0/1 error: 0.079500\n",
      "Epoch 4...\n",
      "Train negative log-likelihood: 0.285517\n",
      "Test  negative log-likelihood: 0.299710 0/1 error: 0.081800\n",
      "Epoch 5...\n",
      "Train negative log-likelihood: 0.281135\n",
      "Test  negative log-likelihood: 0.277646 0/1 error: 0.075900\n",
      "Epoch 6...\n",
      "Train negative log-likelihood: 0.278610\n",
      "Test  negative log-likelihood: 0.289195 0/1 error: 0.083600\n",
      "Epoch 7...\n",
      "Train negative log-likelihood: 0.275453\n",
      "Test  negative log-likelihood: 0.291415 0/1 error: 0.083400\n",
      "Epoch 8...\n",
      "Train negative log-likelihood: 0.272424\n",
      "Test  negative log-likelihood: 0.274635 0/1 error: 0.076400\n",
      "Epoch 9...\n",
      "Train negative log-likelihood: 0.271329\n",
      "Test  negative log-likelihood: 0.292795 0/1 error: 0.079300\n",
      "Epoch 10...\n",
      "Train negative log-likelihood: 0.269972\n",
      "Test  negative log-likelihood: 0.288232 0/1 error: 0.080000\n",
      "Epoch 11...\n",
      "Train negative log-likelihood: 0.268286\n",
      "Test  negative log-likelihood: 0.285285 0/1 error: 0.079400\n",
      "Epoch 12...\n",
      "Train negative log-likelihood: 0.266811\n",
      "Test  negative log-likelihood: 0.283728 0/1 error: 0.075900\n",
      "Epoch 13...\n",
      "Train negative log-likelihood: 0.265651\n",
      "Test  negative log-likelihood: 0.278749 0/1 error: 0.077300\n",
      "Epoch 14...\n",
      "Train negative log-likelihood: 0.265007\n",
      "Test  negative log-likelihood: 0.282913 0/1 error: 0.075800\n",
      "Epoch 15...\n",
      "Train negative log-likelihood: 0.263629\n",
      "Test  negative log-likelihood: 0.280571 0/1 error: 0.075600\n",
      "Epoch 16...\n",
      "Train negative log-likelihood: 0.263874\n",
      "Test  negative log-likelihood: 0.278427 0/1 error: 0.079300\n",
      "Epoch 17...\n",
      "Train negative log-likelihood: 0.262343\n",
      "Test  negative log-likelihood: 0.287191 0/1 error: 0.078400\n",
      "Epoch 18...\n",
      "Train negative log-likelihood: 0.262246\n",
      "Test  negative log-likelihood: 0.289465 0/1 error: 0.079300\n",
      "Epoch 19...\n",
      "Train negative log-likelihood: 0.261148\n",
      "Test  negative log-likelihood: 0.291845 0/1 error: 0.079800\n",
      "Epoch 20...\n",
      "Train negative log-likelihood: 0.260766\n",
      "Test  negative log-likelihood: 0.288544 0/1 error: 0.078200\n",
      "Epoch 21...\n",
      "Train negative log-likelihood: 0.259684\n",
      "Test  negative log-likelihood: 0.283484 0/1 error: 0.075700\n",
      "Epoch 22...\n",
      "Train negative log-likelihood: 0.259576\n",
      "Test  negative log-likelihood: 0.284969 0/1 error: 0.075000\n",
      "Epoch 23...\n",
      "Train negative log-likelihood: 0.259709\n",
      "Test  negative log-likelihood: 0.285845 0/1 error: 0.077300\n",
      "Epoch 24...\n",
      "Train negative log-likelihood: 0.259122\n",
      "Test  negative log-likelihood: 0.320012 0/1 error: 0.085800\n",
      "Epoch 25...\n",
      "Train negative log-likelihood: 0.257962\n",
      "Test  negative log-likelihood: 0.284569 0/1 error: 0.078700\n"
     ]
    }
   ],
   "source": [
    "import torch\n",
    "import torch.nn as nn\n",
    "import torch.nn.functional as F\n",
    "import torch.optim as optim\n",
    "from torch.autograd import Variable\n",
    "from torch.utils.data import DataLoader\n",
    "\n",
    "# Training settings\n",
    "seed = 1337\n",
    "lr = 0.1\n",
    "epochs = 25\n",
    "train_batch_size = 10\n",
    "test_batch_size = 100\n",
    "\n",
    "torch.manual_seed(seed)\n",
    "\n",
    "train_loader = DataLoader(train_data, batch_size=train_batch_size, shuffle=True) # crée des racks de 10 images\n",
    "test_loader = DataLoader(test_data, batch_size=test_batch_size, shuffle=False)\n",
    "\n",
    "class Net(nn.Module):\n",
    "    def __init__(self):\n",
    "        super(Net, self).__init__()\n",
    "        self.fc1 = nn.Linear(28*28, 10)\n",
    "        \n",
    "\n",
    "    def forward(self, X):\n",
    "        X = X.view(-1, 28*28)  # transforme une image 28*28 en ligne de 784 valeurs\n",
    "        X = self.fc1(X)\n",
    "        return F.log_softmax(X)\n",
    "\n",
    "model = Net()\n",
    "\n",
    "optimizer = optim.SGD(model.parameters(), lr=lr) \n",
    "\n",
    "def train(epoch):\n",
    "\n",
    "    exp_loss = 0.\n",
    "    n_processed = 0\n",
    "\n",
    "    model.train()\n",
    "    for X, Y in train_loader:\n",
    "        X, Y = Variable(X), Variable(Y)\n",
    "        \n",
    "        # Forward pass\n",
    "        Y_pred_prob = model(X)\n",
    "\n",
    "        # Compute expected loss\n",
    "        loss = F.nll_loss(Y_pred_prob, Y)\n",
    "        \n",
    "        # Backward pass\n",
    "        loss.backward()\n",
    "        \n",
    "        # Parameter update (gradient descent)\n",
    "        optimizer.step()\n",
    "        optimizer.zero_grad()\n",
    "\n",
    "        # exp_loss.data[0] += loss * X.data.shape[0]\n",
    "        exp_loss += loss * X.data.shape[0]\n",
    "        n_processed += X.data.shape[0]\n",
    "    \n",
    "    exp_loss /= n_processed\n",
    "    return exp_loss\n",
    "\n",
    "def test():\n",
    "    test_loss = 0\n",
    "    test_error = 0\n",
    "    \n",
    "    model.eval()\n",
    "    for X, Y in test_loader:\n",
    "        X, Y = Variable(X, volatile=True), Variable(Y)\n",
    "        \n",
    "        # Forward pass\n",
    "        Y_pred_prob = model(X)\n",
    "        \n",
    "        # Compute the expected negative log-likelihood\n",
    "        test_loss += F.nll_loss(Y_pred_prob, Y, size_average=False).data[0]\n",
    "        \n",
    "        # Get the mode of p(y|x) (most probable digit)\n",
    "        Y_pred = Y_pred_prob.data.max(1, keepdim=True)[1]\n",
    "        \n",
    "        # Compute the expected 0/1 error\n",
    "        test_error += (1 - Y_pred.eq(Y.data.view_as(Y_pred))).sum()\n",
    "\n",
    "    test_loss /= len(test_loader.dataset)\n",
    "    test_error /= len(test_loader.dataset)\n",
    "\n",
    "    return test_loss, test_error\n",
    "\n",
    "\n",
    "for epoch in range(1, epochs + 1):\n",
    "    \n",
    "    print('Epoch {}...'.format(epoch))\n",
    "    \n",
    "    train_loss = train(epoch)\n",
    "    print('Train negative log-likelihood: {:.6f}'.format(train_loss.data[0]))\n",
    "    \n",
    "    test_loss, test_error = test()\n",
    "    print('Test  negative log-likelihood: {:.6f} 0/1 error: {:.6f}'.format(test_loss, test_error))\n"
   ]
  },
  {
   "cell_type": "markdown",
   "metadata": {},
   "source": [
    "Jouez avec les paramètres suivants:\n",
    "- lr\n",
    "- epochs\n",
    "- train_batch_size\n",
    "\n",
    "Quelle est la meilleure performance (0/1 error) que vous arrivez à atteindre?"
   ]
  },
  {
   "cell_type": "markdown",
   "metadata": {},
   "source": [
    "Les résultats selon la configuration :\n",
    "\n",
    "(lr = 0.1, epochs = 25, train_batch_size = 50 ) : Train negative log-likelihood: 0.255545,     Test negative log-likelihood: 0.267748,      0/1 error: 0.075300\n",
    "\n",
    "(lr = 0.5, epochs = 25, train_batch_size = 50 ) : Train negative log-likelihood: 0.260592, Test  negative log-likelihood: 0.288959, 0/1 error: 0.081400\n",
    "\n",
    "(lr = 0.1, epochs = 25, train_batch_size = 10 ) : Train negative log-likelihood: 0.257962, Test  negative log-likelihood: 0.284569, 0/1 error: 0.078700\n",
    "\n",
    "(lr = 0.1, epochs = 50, train_batch_size = 50 ) : Train negative log-likelihood: 0.245841, Test  negative log-likelihood: 0.265342, 0/1 error: 0.073600\n",
    "\n",
    "(lr = 0.05, epochs = 50, train_batch_size = 10 ) : Train negative log-likelihood: 0.243141, Test  negative log-likelihood: 0.271344, 0/1 error: 0.074000\n",
    "\n",
    "L'erreur 0-1 minimale obtenue correspond à 7,36 % de mal classés."
   ]
  },
  {
   "cell_type": "markdown",
   "metadata": {},
   "source": [
    "## Améliorez votre modèle\n",
    "\n",
    "Améliorez votre modèle afin de diminuer l'erreur sur le jeu de test. Essayez différentes architectures / hyperparamètres et à chaque fois reportez vos résultats. Des exemples sont décrits sur la page officielle de PyTorch http://pytorch.org/tutorials/beginner/blitz/neural_networks_tutorial.html ainsi que sur https://gist.github.com/reddragon/3fa9c3ee4d10a7be242183d2e98cfc5d.\n",
    "\n",
    "Objectif: passer sous les 1% d'erreur: http://yann.lecun.com/exdb/mnist/\n",
    "\n",
    "Pistes à essayer:\n",
    "- plus de couches cachées. On affiche les taux d'erreurs de réseaux de neurones à 1, 2 et 3 couches et sur 25 epochs : ![3 couches cachées](graphique_couches.png)\n",
    "Le taux d'erreur en dents de scie suggère de diminuer le taux d'apprentissage en fonction de la valeur de perte.\n",
    "\n",
    "\n",
    "- convolutions + max pooling. Voir http://pytorch.org/docs/master/nn.html#conv2d + http://pytorch.org/docs/master/nn.html#maxpool2d. Une brève description du principe de convolution (2D ici, qui est une application de la convolution sur $\\mathbb{Z}^2$ au sens mathématique si le terme de biai est absent) est tirée de https://arxiv.org/pdf/1603.07285.pdf : On transforme un tenseur 2D de valeurs en remplaçant chaque entrée par une somme pondérée des valeurs dans une fenêtre autour de cette entrée, plus un terne de biai. Les poids et le biai sont des termes calibrés par l'apprentissage. Un coefficient de stride s > 1 signifie que l'on applique une convolution usuelle puis on ne garde que 1 entrée sur s du tenseur de sortie dans les 2 directions. Un nombre $N_{in}$ de canaux en entrée signifie autant de Tenseurs 2D à traiter, tandis que $N_{out}$ canaux en sortie signifie autant de tenseurs à créer, ce qui implique $N_{in}*N_{out}$ noyaux de convolutions à utiliser. Le max-pooling suit un principe similaire, mais fournit la valeur max dans une fenêtre autour d'une entrée au lieu d'une somme pondérée dans cette fenêtre.\n",
    "\n",
    " Les graphiques suivant montrent la succession d'une couche de convolution sur une fenêtre 5 par 5 suivie d'un max pooling sur une fenêtre 2 par 2, où on a de gauche à droite un nombre de canaux de sortie de convolution égal à 1, 5 et 10, suivie de deux couches cachées de neurones. On constate que l'ajout d'une couche de convolution avec un seul canal en sortie derrière 2 couches de neurones n'améliore pas la performance (c'est assez normal puisque cela ne fait que 'flouter' les images), et que spécifier plusieurs canaux de sortie est la caractéristique clé pour améliorer les performances. En effet, avec l'ajout de canaux on frise le 99 % de réussites (graphique de droite) : ![3 couches cachées](graphique_convo_maxpooling_couches.png)\n",
    " \n",
    "\n",
    "- dropout. Voir la brève explication sur http://pytorch.org/docs/master/nn.html#dropout2d ainsi que l'article https://arxiv.org/pdf/1411.4280.pdf . Le principe du dropout est de modifier un tenseur en posant la valeur de chaque élément comme égale à 0 avec probabilité $p \\in [0,1]$, avec p un paramètre défini au préalable. L'objectif de ceci est de corriger une possible dépendance trop forte de l'apprentissage aux valeurs de quelques 'pixels' en particulier, et ainsi tourner l'apprentissage sur des formes globales des images d'entrainement. En fixant comme paramètre \"d'évacuation\" la valeur p = 0.2 (à gauche), puis en intégrant une diminution adaptative du taux d'apprentissage (au centre) et enfin en ajoutant une descente de gradient par Adam on obtient ![3 couches cachées](graphique_conv_maxpooling_dropout_couches.png)\n",
    "\n",
    "\n",
    "- couches résiduelles\n",
    "\n",
    "Astuces:\n",
    "- changer l'algorithme de descente de gradient (Adam)\n",
    "- implémentez une stratégie d'early stopping: $n$ epochs sans amélioration -> arret\n",
    "- implémentez une stratégie de diminution du learning rate: $n/2$ epochs sans amélioration -> $\\alpha = \\alpha / 2$\n",
    "\n",
    "A propos de la différence entre définir des opérations dans le réseau dans la partie init ou la partie forward, voir https://discuss.pytorch.org/t/how-to-choose-between-torch-nn-functional-and-torch-nn-module/2800/14 "
   ]
  },
  {
   "cell_type": "code",
   "execution_count": 4,
   "metadata": {
    "collapsed": true
   },
   "outputs": [],
   "source": [
    "import torch\n",
    "import torch.nn as nn\n",
    "import torch.nn.functional as F\n",
    "import torch.optim as optim\n",
    "from torch.autograd import Variable\n",
    "from torch.utils.data import DataLoader"
   ]
  },
  {
   "cell_type": "code",
   "execution_count": 159,
   "metadata": {},
   "outputs": [
    {
     "name": "stdout",
     "output_type": "stream",
     "text": [
      "None\n",
      "False\n"
     ]
    }
   ],
   "source": [
    "print(torch.backends.cudnn.version())\n",
    "print(torch.cuda.is_available())"
   ]
  },
  {
   "cell_type": "code",
   "execution_count": null,
   "metadata": {
    "collapsed": true
   },
   "outputs": [],
   "source": [
    "# La liste des optimiseurs\n",
    "'SGD' : optim.SGD(params, lr=lr),\n",
    "'ASGD' : optim.ASGD(params, lr=0.01, lambd=0.0001, alpha=0.75, t0=1000000.0, weight_decay=0), \n",
    "'Adadelta' : optim.Adadelta(params, lr=0.01, rho=0.9, eps=1e-06, weight_decay=0),\n",
    "'Adagrad' : optim.Adagrad(params, lr=0.01, lr_decay=0, weight_decay=0),\n",
    "'Adam' : optim.Adam(params, lr=0.01, betas=(0.9, 0.999), eps=1e-08, weight_decay=0), \n",
    "'Adamax' : optim.Adamax(params, lr=0.002, betas=(0.9, 0.999), eps=1e-08, weight_decay=0),\n",
    "'RMSp' : optim.RMSprop(params, lr=0.01, alpha=0.99, eps=1e-08, weight_decay=0, momentum=0, centered=False),\n",
    "'Rp' : optim.Rprop(params, lr=0.01, etas=(0.5, 1.2), step_sizes=(1e-06, 50))"
   ]
  },
  {
   "cell_type": "code",
   "execution_count": 21,
   "metadata": {},
   "outputs": [
    {
     "name": "stderr",
     "output_type": "stream",
     "text": [
      "C:\\ProgramData\\Anaconda3\\lib\\site-packages\\ipykernel_launcher.py:48: UserWarning: Implicit dimension choice for log_softmax has been deprecated. Change the call to include dim=X as an argument.\n"
     ]
    },
    {
     "name": "stdout",
     "output_type": "stream",
     "text": [
      "1\n",
      "2\n",
      "3\n",
      "4\n",
      "5\n",
      "6\n",
      "7\n",
      "8\n",
      "9\n",
      "10\n",
      "11\n",
      "12\n",
      "13\n",
      "14\n",
      "15\n",
      "16\n",
      "17\n",
      "18\n",
      "19\n",
      "20\n",
      "21\n",
      "22\n",
      "23\n",
      "24\n",
      "25\n"
     ]
    },
    {
     "data": {
      "text/plain": [
       "[<matplotlib.lines.Line2D at 0x1ea588f9b00>]"
      ]
     },
     "execution_count": 21,
     "metadata": {},
     "output_type": "execute_result"
    },
    {
     "data": {
      "image/png": "[encoded data removed]",
      "text/plain": [
       "<matplotlib.figure.Figure at 0x1ea575ab278>"
      ]
     },
     "metadata": {},
     "output_type": "display_data"
    }
   ],
   "source": [
    "#--------------- Paramètres de base de l'apprentissage --------------\n",
    "seed = 1337\n",
    "lr = 0.05\n",
    "epochs = 25\n",
    "train_batch_size = 10\n",
    "test_batch_size = 100\n",
    "torch.manual_seed(seed)\n",
    "train_loader = DataLoader(train_data, batch_size=train_batch_size, shuffle=True)\n",
    "test_loader = DataLoader(test_data, batch_size=test_batch_size, shuffle=False)\n",
    "\n",
    "\n",
    "\n",
    "#----------------------- Le modèle -----------------------------------\n",
    "class Net(nn.Module):\n",
    "    def __init__(self): # Définit la structure du réseau de neurones\n",
    "        super(Net, self).__init__()\n",
    "        \n",
    "        # les convolutions, \n",
    "        self.conv1 = nn.Conv2d(1,10,5)\n",
    "        self.pool = nn.MaxPool2d(2,2)\n",
    "        self.dropout = nn.Dropout2d(p=0.2)\n",
    "        \n",
    "        self.fc1 = nn.Linear(1440, 40) #10*12*12 = 1440\n",
    "        self.fc2 = nn.Linear(40, 20)\n",
    "        self.fc3 = nn.Linear(20, 10) \n",
    "\n",
    "    def forward(self, X): # Fait circuler la donnée dans le réseau construit en __init__\n",
    "        \n",
    "        # convolution + Max pooling\n",
    "        X = self.conv1(X)\n",
    "        X = F.relu(X)\n",
    "        X = self.pool(X)\n",
    "        X = self.dropout(X)\n",
    "        \n",
    "        X = X.view(-1, self.num_flat_features(X))  # flatten images \n",
    "        X = F.relu(self.fc1(X))\n",
    "        X = F.relu(self.fc2(X))\n",
    "        X = self.fc3(X)\n",
    "        return F.log_softmax(X) \n",
    "    \n",
    "    def num_flat_features(self, X):\n",
    "        size = X.size()[1:]  # all dimensions except the batch dimension\n",
    "        num_features = 1\n",
    "        for s in size:\n",
    "            num_features *= s\n",
    "        return num_features\n",
    "\n",
    "model = Net()\n",
    "\n",
    "\n",
    "\n",
    "# ------------------------ Méthode d'optimisation des paramètres du modèle --------------------\n",
    "params = model.parameters()\n",
    "\n",
    "# l'optimiseur : définit comment les paramètres sont optimisés à partir du gradient de l'erreur stocké dans ces paramètres\n",
    "# infos sur http://pytorch.org/docs/master/optim.html\n",
    "# voir peut être aussi http://www.cs.toronto.edu/~fritz/absps/momentum.pdf\n",
    "\n",
    "# 'SGD' : stochastic gradient descent\n",
    "# 'ASGD' : averaged stochastic gradient descent\n",
    "# 'Adadelta' : 12-2012, https://arxiv.org/pdf/1212.5701.pdf\n",
    "# 'Adagrad' : 07-2012, http://www.jmlr.org/papers/volume12/duchi11a/duchi11a.pdf\n",
    "# 'Adam' : 12-2014, https://arxiv.org/pdf/1412.6980.pdf\n",
    "# 'Adamax'\n",
    "# 'RMSp' \n",
    "# 'Rp'     \n",
    "optimizer = optim.SGD(params, lr=lr) #  optim.Adam(params, lr=lr, betas=(0.9, 0.999), eps=1e-08, weight_decay=0) #optim.SGD(params, lr=lr) #\n",
    "\n",
    "\n",
    "\n",
    "\n",
    "# réduction du taux d'apprentissage en fonction de la valeur de gradient scheduler \n",
    "# Explications dans http://pytorch.org/docs/master/_modules/torch/optim/lr_scheduler.html\n",
    "# mettre un 'max' si on maximise un gain dans l'apprentissage \n",
    "\n",
    "scheduler = optim.lr_scheduler.ReduceLROnPlateau(optimizer, mode = 'min', factor = 0.5, patience = 5, verbose  = False)\n",
    "\n",
    "\n",
    "\n",
    "#---------------- Fonction d'apprentissage ----------------------------\n",
    "def train(epoch):\n",
    "\n",
    "    exp_loss = 0.\n",
    "    n_processed = 0\n",
    "\n",
    "    model.train()\n",
    "    for X, Y in train_loader:\n",
    "        X, Y = Variable(X), Variable(Y)\n",
    "        \n",
    "        # Calcul de la sortie prédite par le modèle\n",
    "        Y_pred_prob = model(X)\n",
    "\n",
    "        # Calcul de l'erreur\n",
    "        loss = F.nll_loss(Y_pred_prob, Y)\n",
    "\n",
    "        # Rétro-propagation du gradient de l'erreur dans les paramètres\n",
    "        loss.backward()\n",
    "        \n",
    "        # Applique la mise à jour des paramètres (descente de gradient)\n",
    "        optimizer.step()\n",
    "        \n",
    "        # Modifie le taux d'apprentissage de l'optimiseur en fonction de l'importance de l'erreur\n",
    "        #scheduler.step(loss.data[0])\n",
    "        \n",
    "        # Initialisation du gradient\n",
    "        optimizer.zero_grad()\n",
    "\n",
    "        # Paramètres pour la perte moyenne\n",
    "        exp_loss += loss * X.data.shape[0]\n",
    "        n_processed += X.data.shape[0]\n",
    "    \n",
    "    exp_loss /= n_processed\n",
    "    return exp_loss\n",
    "\n",
    "\n",
    "\n",
    "#----------------------- Fonction de test --------------------------------\n",
    "def test():\n",
    "    test_loss = 0\n",
    "    test_error = 0\n",
    "    \n",
    "    model.eval()\n",
    "    for X, Y in test_loader:\n",
    "        X, Y = Variable(X, volatile=True), Variable(Y)\n",
    "        \n",
    "        # Forward pass\n",
    "        Y_pred_prob = model(X)\n",
    "        \n",
    "        # Compute the expected negative log-likelihood\n",
    "        test_loss += F.nll_loss(Y_pred_prob, Y, size_average=False).data[0]\n",
    "        \n",
    "        # Get the mode of p(y|x) (most probable digit)\n",
    "        Y_pred = Y_pred_prob.data.max(1, keepdim=True)[1]\n",
    "        \n",
    "        # Compute the expected 0/1 error\n",
    "        test_error += (1 - Y_pred.eq(Y.data.view_as(Y_pred))).sum()\n",
    "\n",
    "    test_loss /= len(test_loader.dataset)\n",
    "    test_error /= len(test_loader.dataset)\n",
    "\n",
    "    return test_loss, test_error\n",
    "\n",
    "\n",
    "\n",
    "#-------------------- Apprentissage du réseau -------------------------\n",
    "LOSS = []\n",
    "for epoch in range(1, epochs + 1):\n",
    "    \n",
    "    #print('Epoch {}...'.format(epoch))\n",
    "    #print('Train negative log-likelihood: {:.6f}'.format(train_loss.data[0]))\n",
    "    #print('Test  negative log-likelihood: {:.6f} 0/1 error: {:.6f}'.format(test_loss, test_error))\n",
    "    \n",
    "    train_loss = train(epoch)\n",
    "    test_loss, test_error = test()\n",
    "    scheduler.step(test_loss)\n",
    "    LOSS.append(test_error)\n",
    "    if epoch % 5 == 0:\n",
    "        print(epoch)\n",
    "    \n",
    "\n",
    "plt.plot(range(epochs), LOSS)\n"
   ]
  },
  {
   "cell_type": "code",
   "execution_count": 27,
   "metadata": {
    "collapsed": true
   },
   "outputs": [],
   "source": [
    "LOSS_29 = list(LOSS)"
   ]
  },
  {
   "cell_type": "code",
   "execution_count": 28,
   "metadata": {},
   "outputs": [
    {
     "name": "stderr",
     "output_type": "stream",
     "text": [
      "C:\\ProgramData\\Anaconda3\\lib\\site-packages\\ipykernel_launcher.py:48: UserWarning: Implicit dimension choice for log_softmax has been deprecated. Change the call to include dim=X as an argument.\n"
     ]
    },
    {
     "name": "stdout",
     "output_type": "stream",
     "text": [
      "30\n",
      "31\n",
      "32\n",
      "33\n",
      "34\n",
      "35\n",
      "36\n",
      "37\n",
      "38\n",
      "39\n"
     ]
    },
    {
     "data": {
      "text/plain": [
       "[<matplotlib.lines.Line2D at 0x1ea5747ea58>]"
      ]
     },
     "execution_count": 28,
     "metadata": {},
     "output_type": "execute_result"
    },
    {
     "data": {
      "image/png": "[encoded data removed]",
      "text/plain": [
       "<matplotlib.figure.Figure at 0x1ea5748a3c8>"
      ]
     },
     "metadata": {},
     "output_type": "display_data"
    }
   ],
   "source": [
    "for epoch in range(30, 40):\n",
    "    \n",
    "    #print('Epoch {}...'.format(epoch))\n",
    "    #print('Train negative log-likelihood: {:.6f}'.format(train_loss.data[0]))\n",
    "    #print('Test  negative log-likelihood: {:.6f} 0/1 error: {:.6f}'.format(test_loss, test_error))\n",
    "    \n",
    "    train_loss = train(epoch)\n",
    "    test_loss, test_error = test()\n",
    "    scheduler.step(test_loss)\n",
    "    LOSS.append(test_error)\n",
    "    print(epoch)\n",
    "    \n",
    "\n",
    "plt.plot(range(1,len(LOSS)+1), LOSS)"
   ]
  },
  {
   "cell_type": "code",
   "execution_count": 31,
   "metadata": {},
   "outputs": [],
   "source": [
    "LOSS_40 = list(LOSS)"
   ]
  },
  {
   "cell_type": "markdown",
   "metadata": {},
   "source": [
    "On arrive donc à un taux d'erreurs inférieur à 1%."
   ]
  }
 ],
 "metadata": {
  "kernelspec": {
   "display_name": "Python 3",
   "language": "python",
   "name": "python3"
  },
  "language_info": {
   "codemirror_mode": {
    "name": "ipython",
    "version": 3
   },
   "file_extension": ".py",
   "mimetype": "text/x-python",
   "name": "python",
   "nbconvert_exporter": "python",
   "pygments_lexer": "ipython3",
   "version": "3.6.4"
  }
 },
 "nbformat": 4,
 "nbformat_minor": 2
}
