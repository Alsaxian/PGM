{
 "cells": [
  {
   "cell_type": "code",
   "execution_count": 3,
   "metadata": {
    "collapsed": true
   },
   "outputs": [],
   "source": [
    "# from IPython.core.interactiveshell import InteractiveShell\n",
    "# InteractiveShell.ast_node_interactivity = \"all\""
   ]
  },
  {
   "cell_type": "markdown",
   "metadata": {},
   "source": [
    "# TP -  Introduction to Pytorch\n",
    "\n",
    "\n",
    "## Tensors, Back-propagation, Hand-written digit recognition,  Language modeling\n",
    "*************************************************************\n",
    "\n",
    "**Recommended Reading:**\n",
    "\n",
    "http://pytorch.org/tutorials/beginner/blitz/tensor_tutorial.html"
   ]
  },
  {
   "cell_type": "markdown",
   "metadata": {},
   "source": [
    "## Tensors"
   ]
  },
  {
   "cell_type": "code",
   "execution_count": 13,
   "metadata": {
    "collapsed": false
   },
   "outputs": [
    {
     "name": "stdout",
     "output_type": "stream",
     "text": [
      "\n",
      "1.00000e-19 *\n",
      " -1.6690  0.0000  0.0000\n",
      "  0.0000  0.0000  0.0000\n",
      "[torch.FloatTensor of size 2x3]\n",
      "\n",
      "-2.7817205120757483e-20\n"
     ]
    }
   ],
   "source": [
    "import torch\n",
    "\n",
    "a = torch.FloatTensor(2, 3)\n",
    "print(a)\n",
    "print(a.mean())"
   ]
  },
  {
   "cell_type": "markdown",
   "metadata": {},
   "source": [
    "### are Numpy arrays inside"
   ]
  },
  {
   "cell_type": "code",
   "execution_count": 5,
   "metadata": {
    "collapsed": false
   },
   "outputs": [
    {
     "name": "stdout",
     "output_type": "stream",
     "text": [
      "\n",
      "1.00000e-19 *\n",
      " -1.6690  0.0000  0.0000\n",
      "  0.0000  0.0000  0.0000\n",
      "[torch.FloatTensor of size 2x3]\n",
      "\n"
     ]
    }
   ],
   "source": [
    "a_ = a.numpy()\n",
    "a_[0, 1] = 0.\n",
    "\n",
    "print(a)"
   ]
  },
  {
   "cell_type": "markdown",
   "metadata": {},
   "source": [
    "## Variables"
   ]
  },
  {
   "cell_type": "code",
   "execution_count": 14,
   "metadata": {
    "collapsed": false
   },
   "outputs": [
    {
     "name": "stdout",
     "output_type": "stream",
     "text": [
      "Variable containing:\n",
      " 1  1\n",
      " 1  1\n",
      "[torch.FloatTensor of size 2x2]\n",
      "\n",
      "Variable containing:\n",
      " 1\n",
      "[torch.FloatTensor of size 1]\n",
      "\n"
     ]
    }
   ],
   "source": [
    "from torch.autograd import Variable\n",
    "\n",
    "x = Variable(torch.ones(2, 2))\n",
    "print(x)\n",
    "print(x.mean())"
   ]
  },
  {
   "cell_type": "markdown",
   "metadata": {},
   "source": [
    "### are Tensors inside"
   ]
  },
  {
   "cell_type": "code",
   "execution_count": 2,
   "metadata": {
    "collapsed": false
   },
   "outputs": [
    {
     "ename": "NameError",
     "evalue": "name 'x' is not defined",
     "output_type": "error",
     "traceback": [
      "\u001b[0;31m---------------------------------------------------------------------------\u001b[0m",
      "\u001b[0;31mNameError\u001b[0m                                 Traceback (most recent call last)",
      "\u001b[0;32m<ipython-input-2-ce8cf0ab58c7>\u001b[0m in \u001b[0;36m<module>\u001b[0;34m()\u001b[0m\n\u001b[0;32m----> 1\u001b[0;31m \u001b[0mprint\u001b[0m\u001b[0;34m(\u001b[0m\u001b[0mx\u001b[0m\u001b[0;34m.\u001b[0m\u001b[0mdata\u001b[0m\u001b[0;34m)\u001b[0m\u001b[0;34m\u001b[0m\u001b[0m\n\u001b[0m",
      "\u001b[0;31mNameError\u001b[0m: name 'x' is not defined"
     ]
    }
   ],
   "source": [
    "print(x.data)"
   ]
  },
  {
   "cell_type": "markdown",
   "metadata": {},
   "source": [
    "### with automatic differentiation !"
   ]
  },
  {
   "cell_type": "code",
   "execution_count": 7,
   "metadata": {
    "collapsed": false
   },
   "outputs": [
    {
     "name": "stdout",
     "output_type": "stream",
     "text": [
      "<AddBackward0 object at 0x7f2c940c1b00>\n",
      "<MulBackward0 object at 0x7f2c940c1b00>\n"
     ]
    }
   ],
   "source": [
    "x.requires_grad=True\n",
    "\n",
    "y = x + 2\n",
    "print(y.grad_fn)\n",
    "\n",
    "z = y * y * 3\n",
    "print(z.grad_fn)"
   ]
  },
  {
   "cell_type": "code",
   "execution_count": 9,
   "metadata": {
    "collapsed": false
   },
   "outputs": [
    {
     "name": "stdout",
     "output_type": "stream",
     "text": [
      "None\n",
      "Variable containing:\n",
      "-4.5000 -4.5000\n",
      "-4.5000 -4.5000\n",
      "[torch.FloatTensor of size 2x2]\n",
      "\n"
     ]
    }
   ],
   "source": [
    "print(x.grad)\n",
    "\n",
    "error = (10 - z).mean()\n",
    "error.backward()\n",
    "\n",
    "print(x.grad)"
   ]
  },
  {
   "cell_type": "markdown",
   "metadata": {},
   "source": [
    "# Back-propagation: example\n",
    "\n",
    "On calcule les gradients $\\frac{\\partial L(y - h(x))}{\\partial w}$ et $\\frac{\\partial L(y - h(x))}{\\partial b}$, avec:\n",
    " - $h(x) = \\sigma(w*x + b)$\n",
    " - $\\sigma$ est la fonction logistique (sigmoid)\n",
    " - $L(y, \\hat{y}) = (y - \\hat{y})^2$ (erreur quadratique)\n",
    " - $y = 0.2$\n",
    " - $x = 1.5$\n",
    " - $b = -2$\n",
    " - $w = 3$"
   ]
  },
  {
   "cell_type": "code",
   "execution_count": 10,
   "metadata": {
    "collapsed": false
   },
   "outputs": [
    {
     "name": "stdout",
     "output_type": "stream",
     "text": [
      "0.9241418242454529\n",
      "0.1522950828075409\n",
      "0.101530060172081\n"
     ]
    }
   ],
   "source": [
    "x = Variable(torch.Tensor([1.5]))\n",
    "y = Variable(torch.Tensor([0.2]))\n",
    "b = Variable(torch.Tensor([-2.0]), requires_grad=True)\n",
    "w = Variable(torch.Tensor([3.0]), requires_grad=True)\n",
    "h = torch.sigmoid(w * x + b)\n",
    "error = (y - h)**2\n",
    "error.backward()\n",
    "\n",
    "print(h.data[0])\n",
    "print(w.grad.data[0])\n",
    "print(b.grad.data[0])"
   ]
  },
  {
   "cell_type": "markdown",
   "metadata": {},
   "source": [
    "On minimize $L(y - h(x))$ pas à pas:"
   ]
  },
  {
   "cell_type": "code",
   "execution_count": 18,
   "metadata": {
    "collapsed": false
   },
   "outputs": [
    {
     "name": "stdout",
     "output_type": "stream",
     "text": [
      "Epoch 1 h=0.92414 w=2.96954 b=-2.02031\n",
      "Epoch 2 h=0.91938 w=2.93755 b=-2.04163\n",
      "Epoch 3 h=0.91409 w=2.90391 b=-2.06406\n",
      "Epoch 4 h=0.90820 w=2.86848 b=-2.08768\n",
      "Epoch 5 h=0.90159 w=2.83113 b=-2.11258\n",
      "Epoch 6 h=0.89417 w=2.79172 b=-2.13886\n",
      "Epoch 7 h=0.88582 w=2.75010 b=-2.16660\n",
      "Epoch 8 h=0.87637 w=2.70613 b=-2.19591\n",
      "Epoch 9 h=0.86568 w=2.65968 b=-2.22688\n",
      "Epoch 10 h=0.85354 w=2.61067 b=-2.25956\n",
      "Epoch 11 h=0.83976 w=2.55901 b=-2.29399\n",
      "Epoch 12 h=0.82412 w=2.50474 b=-2.33018\n",
      "Epoch 13 h=0.80642 w=2.44794 b=-2.36804\n",
      "Epoch 14 h=0.78648 w=2.38884 b=-2.40744\n",
      "Epoch 15 h=0.76420 w=2.32784 b=-2.44810\n",
      "Epoch 16 h=0.73956 w=2.26549 b=-2.48968\n",
      "Epoch 17 h=0.71270 w=2.20250 b=-2.53167\n",
      "Epoch 18 h=0.68397 w=2.13973 b=-2.57351\n",
      "Epoch 19 h=0.65387 w=2.07810 b=-2.61460\n",
      "Epoch 20 h=0.62306 w=2.01848 b=-2.65434\n",
      "Epoch 21 h=0.59228 w=1.96165 b=-2.69224\n",
      "Epoch 22 h=0.56223 w=1.90815 b=-2.72790\n",
      "Epoch 23 h=0.53353 w=1.85835 b=-2.76110\n",
      "Epoch 24 h=0.50661 w=1.81237 b=-2.79176\n",
      "Epoch 25 h=0.48171 w=1.77017 b=-2.81989\n",
      "Epoch 26 h=0.45893 w=1.73159 b=-2.84561\n",
      "Epoch 27 h=0.43826 w=1.69639 b=-2.86907\n",
      "Epoch 28 h=0.41958 w=1.66431 b=-2.89046\n",
      "Epoch 29 h=0.40276 w=1.63505 b=-2.90997\n",
      "Epoch 30 h=0.38760 w=1.60833 b=-2.92778\n",
      "Epoch 31 h=0.37395 w=1.58389 b=-2.94407\n",
      "Epoch 32 h=0.36164 w=1.56150 b=-2.95900\n",
      "Epoch 33 h=0.35052 w=1.54094 b=-2.97271\n",
      "Epoch 34 h=0.34045 w=1.52202 b=-2.98532\n",
      "Epoch 35 h=0.33130 w=1.50457 b=-2.99696\n",
      "Epoch 36 h=0.32298 w=1.48843 b=-3.00771\n",
      "Epoch 37 h=0.31538 w=1.47348 b=-3.01768\n",
      "Epoch 38 h=0.30843 w=1.45961 b=-3.02693\n",
      "Epoch 39 h=0.30206 w=1.44670 b=-3.03554\n",
      "Epoch 40 h=0.29619 w=1.43466 b=-3.04356\n",
      "Epoch 41 h=0.29079 w=1.42343 b=-3.05105\n",
      "Epoch 42 h=0.28579 w=1.41292 b=-3.05805\n",
      "Epoch 43 h=0.28117 w=1.40308 b=-3.06461\n",
      "Epoch 44 h=0.27688 w=1.39384 b=-3.07077\n",
      "Epoch 45 h=0.27289 w=1.38517 b=-3.07656\n",
      "Epoch 46 h=0.26918 w=1.37700 b=-3.08200\n",
      "Epoch 47 h=0.26571 w=1.36931 b=-3.08713\n",
      "Epoch 48 h=0.26247 w=1.36205 b=-3.09196\n",
      "Epoch 49 h=0.25944 w=1.35520 b=-3.09653\n",
      "Epoch 50 h=0.25660 w=1.34872 b=-3.10085\n",
      "Epoch 51 h=0.25393 w=1.34259 b=-3.10494\n",
      "Epoch 52 h=0.25142 w=1.33679 b=-3.10881\n",
      "Epoch 53 h=0.24906 w=1.33128 b=-3.11248\n",
      "Epoch 54 h=0.24684 w=1.32606 b=-3.11596\n",
      "Epoch 55 h=0.24474 w=1.32110 b=-3.11927\n",
      "Epoch 56 h=0.24276 w=1.31638 b=-3.12241\n",
      "Epoch 57 h=0.24088 w=1.31189 b=-3.12540\n",
      "Epoch 58 h=0.23911 w=1.30762 b=-3.12825\n",
      "Epoch 59 h=0.23743 w=1.30356 b=-3.13096\n",
      "Epoch 60 h=0.23584 w=1.29968 b=-3.13354\n",
      "Epoch 61 h=0.23433 w=1.29599 b=-3.13601\n",
      "Epoch 62 h=0.23290 w=1.29246 b=-3.13836\n",
      "Epoch 63 h=0.23153 w=1.28909 b=-3.14060\n",
      "Epoch 64 h=0.23024 w=1.28588 b=-3.14275\n",
      "Epoch 65 h=0.22901 w=1.28281 b=-3.14480\n",
      "Epoch 66 h=0.22783 w=1.27987 b=-3.14675\n",
      "Epoch 67 h=0.22672 w=1.27706 b=-3.14863\n",
      "Epoch 68 h=0.22565 w=1.27437 b=-3.15042\n",
      "Epoch 69 h=0.22463 w=1.27179 b=-3.15214\n",
      "Epoch 70 h=0.22366 w=1.26933 b=-3.15378\n",
      "Epoch 71 h=0.22274 w=1.26697 b=-3.15535\n",
      "Epoch 72 h=0.22185 w=1.26470 b=-3.15686\n",
      "Epoch 73 h=0.22101 w=1.26253 b=-3.15831\n",
      "Epoch 74 h=0.22020 w=1.26045 b=-3.15970\n",
      "Epoch 75 h=0.21943 w=1.25846 b=-3.16103\n",
      "Epoch 76 h=0.21869 w=1.25654 b=-3.16231\n",
      "Epoch 77 h=0.21798 w=1.25470 b=-3.16353\n",
      "Epoch 78 h=0.21730 w=1.25294 b=-3.16471\n",
      "Epoch 79 h=0.21665 w=1.25124 b=-3.16584\n",
      "Epoch 80 h=0.21603 w=1.24961 b=-3.16692\n",
      "Epoch 81 h=0.21543 w=1.24805 b=-3.16797\n",
      "Epoch 82 h=0.21486 w=1.24654 b=-3.16897\n",
      "Epoch 83 h=0.21431 w=1.24510 b=-3.16993\n",
      "Epoch 84 h=0.21378 w=1.24371 b=-3.17086\n",
      "Epoch 85 h=0.21328 w=1.24237 b=-3.17175\n",
      "Epoch 86 h=0.21279 w=1.24109 b=-3.17261\n",
      "Epoch 87 h=0.21232 w=1.23985 b=-3.17343\n",
      "Epoch 88 h=0.21188 w=1.23866 b=-3.17423\n",
      "Epoch 89 h=0.21145 w=1.23752 b=-3.17499\n",
      "Epoch 90 h=0.21103 w=1.23641 b=-3.17572\n",
      "Epoch 91 h=0.21064 w=1.23535 b=-3.17643\n",
      "Epoch 92 h=0.21025 w=1.23433 b=-3.17711\n",
      "Epoch 93 h=0.20989 w=1.23335 b=-3.17777\n",
      "Epoch 94 h=0.20953 w=1.23240 b=-3.17840\n",
      "Epoch 95 h=0.20919 w=1.23149 b=-3.17901\n",
      "Epoch 96 h=0.20887 w=1.23061 b=-3.17959\n",
      "Epoch 97 h=0.20855 w=1.22976 b=-3.18016\n",
      "Epoch 98 h=0.20825 w=1.22895 b=-3.18070\n",
      "Epoch 99 h=0.20796 w=1.22816 b=-3.18123\n",
      "Epoch 100 h=0.20768 w=1.22740 b=-3.18173\n"
     ]
    }
   ],
   "source": [
    "x = Variable(torch.Tensor([1.5]))\n",
    "y = Variable(torch.Tensor([0.2]))\n",
    "b = Variable(torch.Tensor([-2.0]), requires_grad=True)\n",
    "w = Variable(torch.Tensor([3.0]), requires_grad=True)\n",
    "\n",
    "alpha = 0.2\n",
    "for i in range(100):\n",
    "    h = torch.sigmoid(w * x + b)\n",
    "    error = (y - h)**2\n",
    "    error.backward()\n",
    "    \n",
    "    w.data.sub_(alpha * w.grad.data)\n",
    "    w.grad.data.zero_()  # must reset to 0 before next pass\n",
    "    \n",
    "    b.data.sub_(alpha * b.grad.data)\n",
    "    b.grad.data.zero_()  # must reset to 0 before next pass\n",
    "    \n",
    "    print('Epoch {} h={:.05f} w={:.05f} b={:.05f}'.format(i+1, h.data[0], w.data[0], b.data[0]))\n",
    "\n",
    "    "
   ]
  },
  {
   "cell_type": "markdown",
   "metadata": {},
   "source": [
    "Essayez différentes valeurs pour le paramètre alpha: 0.01, 0.1, 1, 10, 100. Que constatez-vous ?"
   ]
  },
  {
   "cell_type": "code",
   "execution_count": null,
   "metadata": {
    "collapsed": true
   },
   "outputs": [],
   "source": []
  },
  {
   "cell_type": "markdown",
   "metadata": {},
   "source": [
    "# A vous de jouer !\n",
    "\n",
    "Voici un jeu de données synthetique."
   ]
  },
  {
   "cell_type": "code",
   "execution_count": 3,
   "metadata": {
    "collapsed": false
   },
   "outputs": [],
   "source": [
    "import numpy as np\n",
    "import torch\n",
    "\n",
    "np.random.seed(1337)\n",
    "\n",
    "X_ = np.concatenate((\n",
    "    np.random.random(\n",
    "        size=(5000, 2)) - 0.5,\n",
    "    np.random.multivariate_normal(\n",
    "        size=(2500, ),\n",
    "        mean=(-.25, -.25),\n",
    "        cov=((0.005, 0), (0, 0.005))),\n",
    "    np.random.multivariate_normal(\n",
    "        size=(2500, ),\n",
    "        mean=(0.25, 0.25),\n",
    "        cov=((0.005, 0), (0, 0.005))),\n",
    "))\n",
    "\n",
    "Y_ = np.concatenate((\n",
    "    np.zeros(shape=(5000, 1)),\n",
    "    np.ones(shape=(5000, 1)),\n",
    "))\n",
    "\n",
    "X_ = np.asarray(X_, dtype='float32')\n",
    "Y_ = np.asarray(Y_, dtype='float32')\n",
    "\n",
    "# shuffle data points\n",
    "perm = np.random.permutation(X_.shape[0])\n",
    "X_ = X_[perm]\n",
    "Y_ = Y_[perm]\n",
    "\n",
    "# numpy arrays -> torch tensors\n",
    "torch.manual_seed(1337)\n",
    "\n",
    "X = torch.from_numpy(X_)\n",
    "Y = torch.from_numpy(Y_)"
   ]
  },
  {
   "cell_type": "markdown",
   "metadata": {},
   "source": [
    "On crée deux jeux séparés: train / test."
   ]
  },
  {
   "cell_type": "code",
   "execution_count": 4,
   "metadata": {
    "collapsed": false
   },
   "outputs": [
    {
     "data": {
      "image/png": "[encoded data removed]",
      "text/plain": [
       "<matplotlib.figure.Figure at 0x7fc379aaa6a0>"
      ]
     },
     "metadata": {},
     "output_type": "display_data"
    }
   ],
   "source": [
    "import matplotlib.pyplot as plt\n",
    "from matplotlib.colors import ListedColormap\n",
    "\n",
    "# train / test split\n",
    "n_train = 100\n",
    "n_test = 100\n",
    "\n",
    "X_train = X[:n_train]\n",
    "Y_train = Y[:n_train]\n",
    "\n",
    "X_test = X[n_train:(n_train + n_test)]\n",
    "Y_test = Y[n_train:(n_train + n_test)]\n",
    "\n",
    "cm = plt.cm.RdBu\n",
    "cm_bright = ListedColormap(['#FF0000', '#0000FF'])\n",
    "\n",
    "fig, axes = plt.subplots(nrows=1, ncols=2, figsize=(16, 8), squeeze=False)\n",
    "axes[0, 0].set_title('train')\n",
    "axes[0, 0].scatter(\n",
    "    X_train[:, 0].numpy(),\n",
    "    X_train[:, 1].numpy(),\n",
    "    c=Y_train[:, 0].numpy(),\n",
    "    cmap=cm_bright,\n",
    "    edgecolors='k')\n",
    "axes[0, 1].set_title('test')\n",
    "axes[0, 1].scatter(\n",
    "    X_test[:, 0].numpy(),\n",
    "    X_test[:, 1].numpy(),\n",
    "    c=Y_test[:, 0].numpy(),\n",
    "    cmap=cm_bright,\n",
    "    edgecolors='k')\n",
    "plt.show()"
   ]
  },
  {
   "cell_type": "markdown",
   "metadata": {},
   "source": [
    "Implémentez un réseau de neurones sans couche cachée, qui prends en entrée $\\mathbf{x} \\in \\mathbb{R}^2$ et produit une seule sortie $\\mathbf{y} \\in [0, 1]$ (sigmoid).\n",
    "\n",
    "Multiplication de matrics: torch.matmul\n",
    "\n",
    "Interdiction d'utiliser les modules haut niveau de pytorch ! (optim, nn etc.)"
   ]
  },
  {
   "cell_type": "code",
   "execution_count": 5,
   "metadata": {
    "collapsed": false
   },
   "outputs": [
    {
     "data": {
      "text/plain": [
       "1.6404754"
      ]
     },
     "execution_count": 5,
     "metadata": {},
     "output_type": "execute_result"
    }
   ],
   "source": [
    "import numpy as np\n",
    "from torch.autograd import Variable\n",
    "\n",
    "torch.manual_seed(0)\n",
    "\n",
    "n_in = 2\n",
    "params = []\n",
    "\n",
    "n_out = 1\n",
    "W = Variable(torch.normal(torch.zeros(n_in, n_out), np.sqrt(2/(n_in + n_out))), requires_grad=True)\n",
    "b = Variable(torch.zeros(n_out), requires_grad=True)\n",
    "\n",
    "# Juste pour essayer le produit vectoriel des Variables\n",
    "W.data\n",
    "W.dot(W)\n",
    "1.2582*1.2582+(0.2396*0.2396)"
   ]
  },
  {
   "cell_type": "code",
   "execution_count": 6,
   "metadata": {
    "collapsed": false
   },
   "outputs": [
    {
     "name": "stdout",
     "output_type": "stream",
     "text": [
      "Epoch 001\ttrain loss=7.021829\ttest loss=0.677054\t0/1 error=0.420\n",
      "Epoch 002\ttrain loss=6.870937\ttest loss=0.700733\t0/1 error=0.620\n",
      "Epoch 003\ttrain loss=6.844877\ttest loss=0.665587\t0/1 error=0.290\n",
      "Epoch 004\ttrain loss=6.899327\ttest loss=0.678634\t0/1 error=0.370\n",
      "Epoch 005\ttrain loss=6.846813\ttest loss=0.666231\t0/1 error=0.400\n",
      "Epoch 006\ttrain loss=6.869139\ttest loss=0.667100\t0/1 error=0.320\n",
      "Epoch 007\ttrain loss=6.934757\ttest loss=0.686962\t0/1 error=0.590\n",
      "Epoch 008\ttrain loss=6.886077\ttest loss=0.677814\t0/1 error=0.380\n",
      "Epoch 009\ttrain loss=6.808216\ttest loss=0.664992\t0/1 error=0.280\n",
      "Epoch 010\ttrain loss=6.928420\ttest loss=0.672486\t0/1 error=0.400\n",
      "Epoch 011\ttrain loss=6.911923\ttest loss=0.719299\t0/1 error=0.620\n",
      "Epoch 012\ttrain loss=6.902493\ttest loss=0.687678\t0/1 error=0.590\n",
      "Epoch 013\ttrain loss=6.917811\ttest loss=0.684554\t0/1 error=0.520\n",
      "Epoch 014\ttrain loss=6.763779\ttest loss=0.667887\t0/1 error=0.310\n",
      "Epoch 015\ttrain loss=6.852124\ttest loss=0.673307\t0/1 error=0.390\n",
      "Epoch 016\ttrain loss=6.780756\ttest loss=0.663500\t0/1 error=0.370\n",
      "Epoch 017\ttrain loss=6.771703\ttest loss=0.684197\t0/1 error=0.370\n",
      "Epoch 018\ttrain loss=6.869476\ttest loss=0.689853\t0/1 error=0.590\n",
      "Epoch 019\ttrain loss=6.926737\ttest loss=0.673180\t0/1 error=0.380\n",
      "Epoch 020\ttrain loss=6.821433\ttest loss=0.671052\t0/1 error=0.360\n",
      "Epoch 021\ttrain loss=6.775761\ttest loss=0.663688\t0/1 error=0.340\n",
      "Epoch 022\ttrain loss=6.900240\ttest loss=0.665677\t0/1 error=0.290\n",
      "Epoch 023\ttrain loss=6.919960\ttest loss=0.673144\t0/1 error=0.400\n",
      "Epoch 024\ttrain loss=6.875399\ttest loss=0.667241\t0/1 error=0.390\n",
      "Epoch 025\ttrain loss=6.857705\ttest loss=0.746049\t0/1 error=0.590\n",
      "Epoch 026\ttrain loss=6.963870\ttest loss=0.681592\t0/1 error=0.410\n",
      "Epoch 027\ttrain loss=6.970530\ttest loss=0.733486\t0/1 error=0.560\n",
      "Epoch 028\ttrain loss=6.778565\ttest loss=0.668954\t0/1 error=0.420\n",
      "Epoch 029\ttrain loss=6.896006\ttest loss=0.666720\t0/1 error=0.350\n",
      "Epoch 030\ttrain loss=6.789122\ttest loss=0.666389\t0/1 error=0.360\n",
      "Epoch 031\ttrain loss=6.947156\ttest loss=0.671771\t0/1 error=0.430\n",
      "Epoch 032\ttrain loss=6.833668\ttest loss=0.691229\t0/1 error=0.500\n",
      "Epoch 033\ttrain loss=6.916751\ttest loss=0.681538\t0/1 error=0.400\n",
      "Epoch 034\ttrain loss=6.840048\ttest loss=0.676636\t0/1 error=0.400\n",
      "Epoch 035\ttrain loss=6.720771\ttest loss=0.690316\t0/1 error=0.390\n",
      "Epoch 036\ttrain loss=6.921611\ttest loss=0.666332\t0/1 error=0.340\n",
      "Epoch 037\ttrain loss=6.958264\ttest loss=0.696452\t0/1 error=0.560\n",
      "Epoch 038\ttrain loss=6.808752\ttest loss=0.730301\t0/1 error=0.610\n",
      "Epoch 039\ttrain loss=6.774561\ttest loss=0.665191\t0/1 error=0.270\n",
      "Epoch 040\ttrain loss=6.844664\ttest loss=0.665759\t0/1 error=0.320\n",
      "Epoch 041\ttrain loss=6.825365\ttest loss=0.669326\t0/1 error=0.340\n",
      "Epoch 042\ttrain loss=6.738721\ttest loss=0.678821\t0/1 error=0.460\n",
      "Epoch 043\ttrain loss=6.715051\ttest loss=0.694553\t0/1 error=0.580\n",
      "Epoch 044\ttrain loss=6.852546\ttest loss=0.666058\t0/1 error=0.280\n",
      "Epoch 045\ttrain loss=6.858891\ttest loss=0.666500\t0/1 error=0.300\n",
      "Epoch 046\ttrain loss=6.917485\ttest loss=0.706245\t0/1 error=0.600\n",
      "Epoch 047\ttrain loss=6.817914\ttest loss=0.666951\t0/1 error=0.310\n",
      "Epoch 048\ttrain loss=6.869119\ttest loss=0.674187\t0/1 error=0.290\n",
      "Epoch 049\ttrain loss=6.988381\ttest loss=0.706108\t0/1 error=0.630\n",
      "Epoch 050\ttrain loss=6.794972\ttest loss=0.682519\t0/1 error=0.400\n",
      "Epoch 051\ttrain loss=6.754360\ttest loss=0.663845\t0/1 error=0.360\n",
      "Epoch 052\ttrain loss=6.980732\ttest loss=0.694448\t0/1 error=0.590\n",
      "Epoch 053\ttrain loss=6.962292\ttest loss=0.682845\t0/1 error=0.420\n",
      "Epoch 054\ttrain loss=6.890068\ttest loss=0.668605\t0/1 error=0.330\n",
      "Epoch 055\ttrain loss=6.835597\ttest loss=0.740488\t0/1 error=0.610\n",
      "Epoch 056\ttrain loss=6.922078\ttest loss=0.674286\t0/1 error=0.290\n",
      "Epoch 057\ttrain loss=6.961697\ttest loss=0.690516\t0/1 error=0.600\n",
      "Epoch 058\ttrain loss=6.822055\ttest loss=0.666045\t0/1 error=0.310\n",
      "Epoch 059\ttrain loss=6.842465\ttest loss=0.679964\t0/1 error=0.490\n",
      "Epoch 060\ttrain loss=6.830879\ttest loss=0.680885\t0/1 error=0.500\n",
      "Epoch 061\ttrain loss=6.925123\ttest loss=0.667563\t0/1 error=0.320\n",
      "Epoch 062\ttrain loss=6.871927\ttest loss=0.687310\t0/1 error=0.470\n",
      "Epoch 063\ttrain loss=6.817562\ttest loss=0.666622\t0/1 error=0.300\n",
      "Epoch 064\ttrain loss=6.849583\ttest loss=0.671317\t0/1 error=0.400\n",
      "Epoch 065\ttrain loss=6.861387\ttest loss=0.670814\t0/1 error=0.310\n",
      "Epoch 066\ttrain loss=6.878109\ttest loss=0.669570\t0/1 error=0.420\n",
      "Epoch 067\ttrain loss=6.875900\ttest loss=0.665235\t0/1 error=0.420\n",
      "Epoch 068\ttrain loss=6.906299\ttest loss=0.667190\t0/1 error=0.350\n",
      "Epoch 069\ttrain loss=6.892342\ttest loss=0.672140\t0/1 error=0.410\n",
      "Epoch 070\ttrain loss=6.875756\ttest loss=0.677873\t0/1 error=0.380\n",
      "Epoch 071\ttrain loss=6.827201\ttest loss=0.671392\t0/1 error=0.420\n",
      "Epoch 072\ttrain loss=6.928907\ttest loss=0.670115\t0/1 error=0.320\n",
      "Epoch 073\ttrain loss=6.910131\ttest loss=0.713545\t0/1 error=0.620\n",
      "Epoch 074\ttrain loss=6.899915\ttest loss=0.672152\t0/1 error=0.370\n",
      "Epoch 075\ttrain loss=6.862511\ttest loss=0.666591\t0/1 error=0.280\n",
      "Epoch 076\ttrain loss=6.900593\ttest loss=0.669003\t0/1 error=0.340\n",
      "Epoch 077\ttrain loss=6.888565\ttest loss=0.689102\t0/1 error=0.600\n",
      "Epoch 078\ttrain loss=6.880112\ttest loss=0.728457\t0/1 error=0.610\n",
      "Epoch 079\ttrain loss=6.914097\ttest loss=0.677850\t0/1 error=0.400\n",
      "Epoch 080\ttrain loss=6.939583\ttest loss=0.670492\t0/1 error=0.280\n",
      "Epoch 081\ttrain loss=6.799189\ttest loss=0.677763\t0/1 error=0.410\n",
      "Epoch 082\ttrain loss=6.748860\ttest loss=0.683656\t0/1 error=0.460\n",
      "Epoch 083\ttrain loss=6.857358\ttest loss=0.714242\t0/1 error=0.630\n",
      "Epoch 084\ttrain loss=6.850404\ttest loss=0.668173\t0/1 error=0.380\n",
      "Epoch 085\ttrain loss=6.843551\ttest loss=0.665840\t0/1 error=0.340\n",
      "Epoch 086\ttrain loss=6.971854\ttest loss=0.672224\t0/1 error=0.270\n",
      "Epoch 087\ttrain loss=6.817512\ttest loss=0.697709\t0/1 error=0.590\n",
      "Epoch 088\ttrain loss=6.982753\ttest loss=0.695396\t0/1 error=0.630\n",
      "Epoch 089\ttrain loss=6.792174\ttest loss=0.673902\t0/1 error=0.240\n",
      "Epoch 090\ttrain loss=6.972238\ttest loss=0.667541\t0/1 error=0.350\n",
      "Epoch 091\ttrain loss=6.888163\ttest loss=0.665778\t0/1 error=0.390\n",
      "Epoch 092\ttrain loss=6.896099\ttest loss=0.672444\t0/1 error=0.240\n",
      "Epoch 093\ttrain loss=6.823567\ttest loss=0.664605\t0/1 error=0.310\n",
      "Epoch 094\ttrain loss=6.794362\ttest loss=0.691074\t0/1 error=0.570\n",
      "Epoch 095\ttrain loss=6.779286\ttest loss=0.671794\t0/1 error=0.240\n",
      "Epoch 096\ttrain loss=7.061811\ttest loss=0.691272\t0/1 error=0.490\n",
      "Epoch 097\ttrain loss=6.840374\ttest loss=0.666150\t0/1 error=0.330\n",
      "Epoch 098\ttrain loss=6.914855\ttest loss=0.668945\t0/1 error=0.280\n",
      "Epoch 099\ttrain loss=6.806679\ttest loss=0.683882\t0/1 error=0.470\n",
      "Epoch 100\ttrain loss=6.946599\ttest loss=0.666149\t0/1 error=0.300\n",
      "Epoch 101\ttrain loss=6.897396\ttest loss=0.668064\t0/1 error=0.350\n",
      "Epoch 102\ttrain loss=6.821100\ttest loss=0.670621\t0/1 error=0.420\n",
      "Epoch 103\ttrain loss=6.883858\ttest loss=0.687833\t0/1 error=0.570\n",
      "Epoch 104\ttrain loss=6.739229\ttest loss=0.714300\t0/1 error=0.610\n",
      "Epoch 105\ttrain loss=6.855108\ttest loss=0.710556\t0/1 error=0.650\n",
      "Epoch 106\ttrain loss=6.921710\ttest loss=0.704877\t0/1 error=0.570\n",
      "Epoch 107\ttrain loss=6.717192\ttest loss=0.664681\t0/1 error=0.390\n",
      "Epoch 108\ttrain loss=6.887442\ttest loss=0.689498\t0/1 error=0.590\n",
      "Epoch 109\ttrain loss=6.864026\ttest loss=0.700646\t0/1 error=0.570\n",
      "Epoch 110\ttrain loss=6.827942\ttest loss=0.697899\t0/1 error=0.520\n",
      "Epoch 111\ttrain loss=6.675978\ttest loss=0.678055\t0/1 error=0.400\n",
      "Epoch 112\ttrain loss=6.784095\ttest loss=0.677606\t0/1 error=0.460\n",
      "Epoch 113\ttrain loss=6.789426\ttest loss=0.664150\t0/1 error=0.320\n",
      "Epoch 114\ttrain loss=6.759725\ttest loss=0.663979\t0/1 error=0.290\n",
      "Epoch 115\ttrain loss=6.956247\ttest loss=0.670636\t0/1 error=0.350\n",
      "Epoch 116\ttrain loss=6.856797\ttest loss=0.689008\t0/1 error=0.590\n",
      "Epoch 117\ttrain loss=6.927816\ttest loss=0.718231\t0/1 error=0.640\n",
      "Epoch 118\ttrain loss=6.889980\ttest loss=0.683831\t0/1 error=0.530\n",
      "Epoch 119\ttrain loss=6.783833\ttest loss=0.670650\t0/1 error=0.420\n",
      "Epoch 120\ttrain loss=6.869223\ttest loss=0.687436\t0/1 error=0.500\n",
      "Epoch 121\ttrain loss=6.907475\ttest loss=0.667062\t0/1 error=0.400\n",
      "Epoch 122\ttrain loss=6.921684\ttest loss=0.691958\t0/1 error=0.440\n",
      "Epoch 123\ttrain loss=6.775065\ttest loss=0.666800\t0/1 error=0.370\n",
      "Epoch 124\ttrain loss=6.894891\ttest loss=0.664987\t0/1 error=0.330\n",
      "Epoch 125\ttrain loss=6.707578\ttest loss=0.720903\t0/1 error=0.660\n",
      "Epoch 126\ttrain loss=6.818488\ttest loss=0.665373\t0/1 error=0.310\n",
      "Epoch 127\ttrain loss=6.769679\ttest loss=0.664216\t0/1 error=0.290\n",
      "Epoch 128\ttrain loss=6.786220\ttest loss=0.684943\t0/1 error=0.470\n",
      "Epoch 129\ttrain loss=6.773308\ttest loss=0.677309\t0/1 error=0.450\n",
      "Epoch 130\ttrain loss=6.759100\ttest loss=0.669071\t0/1 error=0.340\n",
      "Epoch 131\ttrain loss=6.767057\ttest loss=0.667098\t0/1 error=0.280\n",
      "Epoch 132\ttrain loss=6.921315\ttest loss=0.667624\t0/1 error=0.310\n",
      "Epoch 133\ttrain loss=6.792761\ttest loss=0.664437\t0/1 error=0.400\n",
      "Epoch 134\ttrain loss=6.745230\ttest loss=0.700249\t0/1 error=0.590\n",
      "Epoch 135\ttrain loss=6.945704\ttest loss=0.679086\t0/1 error=0.330\n",
      "Epoch 136\ttrain loss=6.865392\ttest loss=0.674374\t0/1 error=0.380\n",
      "Epoch 137\ttrain loss=6.898041\ttest loss=0.672895\t0/1 error=0.310\n",
      "Epoch 138\ttrain loss=6.916434\ttest loss=0.670071\t0/1 error=0.310\n",
      "Epoch 139\ttrain loss=6.829764\ttest loss=0.674004\t0/1 error=0.370\n",
      "Epoch 140\ttrain loss=6.881287\ttest loss=0.665497\t0/1 error=0.310\n",
      "Epoch 141\ttrain loss=6.837719\ttest loss=0.667986\t0/1 error=0.310\n",
      "Epoch 142\ttrain loss=6.868121\ttest loss=0.693509\t0/1 error=0.550\n",
      "Epoch 143\ttrain loss=6.881171\ttest loss=0.667608\t0/1 error=0.280\n",
      "Epoch 144\ttrain loss=6.840860\ttest loss=0.684716\t0/1 error=0.550\n",
      "Epoch 145\ttrain loss=6.667778\ttest loss=0.665840\t0/1 error=0.310\n",
      "Epoch 146\ttrain loss=6.820316\ttest loss=0.664789\t0/1 error=0.390\n",
      "Epoch 147\ttrain loss=6.897168\ttest loss=0.682087\t0/1 error=0.450\n",
      "Epoch 148\ttrain loss=6.746265\ttest loss=0.676786\t0/1 error=0.390\n",
      "Epoch 149\ttrain loss=6.882080\ttest loss=0.688299\t0/1 error=0.460\n",
      "Epoch 150\ttrain loss=6.849030\ttest loss=0.669022\t0/1 error=0.420\n",
      "Epoch 151\ttrain loss=6.785029\ttest loss=0.673436\t0/1 error=0.400\n",
      "Epoch 152\ttrain loss=6.871946\ttest loss=0.703681\t0/1 error=0.660\n",
      "Epoch 153\ttrain loss=6.854662\ttest loss=0.665862\t0/1 error=0.310\n",
      "Epoch 154\ttrain loss=6.692964\ttest loss=0.729296\t0/1 error=0.630\n",
      "Epoch 155\ttrain loss=6.923868\ttest loss=0.687704\t0/1 error=0.460\n",
      "Epoch 156\ttrain loss=6.915184\ttest loss=0.671750\t0/1 error=0.230\n",
      "Epoch 157\ttrain loss=6.774154\ttest loss=0.664288\t0/1 error=0.330\n",
      "Epoch 158\ttrain loss=6.800441\ttest loss=0.715550\t0/1 error=0.610\n",
      "Epoch 159\ttrain loss=6.949393\ttest loss=0.667235\t0/1 error=0.320\n",
      "Epoch 160\ttrain loss=6.884842\ttest loss=0.680071\t0/1 error=0.480\n",
      "Epoch 161\ttrain loss=6.742761\ttest loss=0.688216\t0/1 error=0.530\n",
      "Epoch 162\ttrain loss=6.816732\ttest loss=0.670016\t0/1 error=0.260\n",
      "Epoch 163\ttrain loss=6.827316\ttest loss=0.671687\t0/1 error=0.350\n",
      "Epoch 164\ttrain loss=6.914105\ttest loss=0.670305\t0/1 error=0.420\n",
      "Epoch 165\ttrain loss=6.786170\ttest loss=0.665294\t0/1 error=0.400\n",
      "Epoch 166\ttrain loss=6.901689\ttest loss=0.665745\t0/1 error=0.350\n",
      "Epoch 167\ttrain loss=6.811748\ttest loss=0.666462\t0/1 error=0.310\n",
      "Epoch 168\ttrain loss=6.741468\ttest loss=0.671614\t0/1 error=0.320\n",
      "Epoch 169\ttrain loss=7.009988\ttest loss=0.674240\t0/1 error=0.400\n",
      "Epoch 170\ttrain loss=6.792569\ttest loss=0.671124\t0/1 error=0.410\n",
      "Epoch 171\ttrain loss=6.845237\ttest loss=0.696368\t0/1 error=0.490\n",
      "Epoch 172\ttrain loss=6.909447\ttest loss=0.675528\t0/1 error=0.410\n",
      "Epoch 173\ttrain loss=6.859117\ttest loss=0.675849\t0/1 error=0.390\n",
      "Epoch 174\ttrain loss=6.884658\ttest loss=0.694169\t0/1 error=0.590\n",
      "Epoch 175\ttrain loss=6.817345\ttest loss=0.733284\t0/1 error=0.620\n",
      "Epoch 176\ttrain loss=6.830016\ttest loss=0.682086\t0/1 error=0.460\n",
      "Epoch 177\ttrain loss=6.830796\ttest loss=0.722381\t0/1 error=0.620\n",
      "Epoch 178\ttrain loss=6.853818\ttest loss=0.672315\t0/1 error=0.310\n",
      "Epoch 179\ttrain loss=6.833146\ttest loss=0.677944\t0/1 error=0.380\n",
      "Epoch 180\ttrain loss=6.958511\ttest loss=0.679200\t0/1 error=0.380\n",
      "Epoch 181\ttrain loss=6.896924\ttest loss=0.672099\t0/1 error=0.310\n",
      "Epoch 182\ttrain loss=6.780626\ttest loss=0.675507\t0/1 error=0.390\n",
      "Epoch 183\ttrain loss=6.895132\ttest loss=0.669434\t0/1 error=0.340\n",
      "Epoch 184\ttrain loss=6.926828\ttest loss=0.697112\t0/1 error=0.640\n",
      "Epoch 185\ttrain loss=6.846381\ttest loss=0.665531\t0/1 error=0.330\n",
      "Epoch 186\ttrain loss=6.879937\ttest loss=0.678913\t0/1 error=0.410\n",
      "Epoch 187\ttrain loss=6.832488\ttest loss=0.670952\t0/1 error=0.340\n",
      "Epoch 188\ttrain loss=6.935145\ttest loss=0.675670\t0/1 error=0.390\n",
      "Epoch 189\ttrain loss=6.902808\ttest loss=0.669805\t0/1 error=0.320\n",
      "Epoch 190\ttrain loss=6.993684\ttest loss=0.676967\t0/1 error=0.410\n",
      "Epoch 191\ttrain loss=6.831796\ttest loss=0.668675\t0/1 error=0.430\n",
      "Epoch 192\ttrain loss=6.827015\ttest loss=0.667003\t0/1 error=0.310\n",
      "Epoch 193\ttrain loss=6.806701\ttest loss=0.664254\t0/1 error=0.360\n",
      "Epoch 194\ttrain loss=6.807135\ttest loss=0.672250\t0/1 error=0.390\n",
      "Epoch 195\ttrain loss=6.824096\ttest loss=0.664387\t0/1 error=0.350\n",
      "Epoch 196\ttrain loss=6.935866\ttest loss=0.670389\t0/1 error=0.250\n",
      "Epoch 197\ttrain loss=6.823339\ttest loss=0.676535\t0/1 error=0.380\n",
      "Epoch 198\ttrain loss=6.975794\ttest loss=0.669963\t0/1 error=0.400\n",
      "Epoch 199\ttrain loss=6.860226\ttest loss=0.689797\t0/1 error=0.600\n",
      "Epoch 200\ttrain loss=6.814789\ttest loss=0.699552\t0/1 error=0.660\n",
      "Epoch 201\ttrain loss=6.890007\ttest loss=0.705088\t0/1 error=0.650\n",
      "Epoch 202\ttrain loss=6.872352\ttest loss=0.674280\t0/1 error=0.410\n",
      "Epoch 203\ttrain loss=6.793306\ttest loss=0.664668\t0/1 error=0.280\n",
      "Epoch 204\ttrain loss=6.840011\ttest loss=0.693821\t0/1 error=0.590\n",
      "Epoch 205\ttrain loss=6.958671\ttest loss=0.708472\t0/1 error=0.600\n",
      "Epoch 206\ttrain loss=6.802761\ttest loss=0.675008\t0/1 error=0.310\n",
      "Epoch 207\ttrain loss=6.800558\ttest loss=0.665117\t0/1 error=0.310\n",
      "Epoch 208\ttrain loss=6.882239\ttest loss=0.671022\t0/1 error=0.270\n",
      "Epoch 209\ttrain loss=6.866315\ttest loss=0.674007\t0/1 error=0.390\n",
      "Epoch 210\ttrain loss=6.862476\ttest loss=0.705623\t0/1 error=0.600\n",
      "Epoch 211\ttrain loss=6.843799\ttest loss=0.665066\t0/1 error=0.380\n",
      "Epoch 212\ttrain loss=6.785179\ttest loss=0.669012\t0/1 error=0.420\n",
      "Epoch 213\ttrain loss=6.798639\ttest loss=0.665690\t0/1 error=0.300\n",
      "Epoch 214\ttrain loss=6.984517\ttest loss=0.693959\t0/1 error=0.590\n",
      "Epoch 215\ttrain loss=6.828778\ttest loss=0.675876\t0/1 error=0.380\n",
      "Epoch 216\ttrain loss=7.009250\ttest loss=0.679871\t0/1 error=0.340\n",
      "Epoch 217\ttrain loss=6.757864\ttest loss=0.674421\t0/1 error=0.370\n",
      "Epoch 218\ttrain loss=6.884539\ttest loss=0.666979\t0/1 error=0.320\n",
      "Epoch 219\ttrain loss=6.863975\ttest loss=0.675753\t0/1 error=0.380\n",
      "Epoch 220\ttrain loss=6.785730\ttest loss=0.693170\t0/1 error=0.590\n",
      "Epoch 221\ttrain loss=6.892611\ttest loss=0.665886\t0/1 error=0.280\n",
      "Epoch 222\ttrain loss=6.808217\ttest loss=0.682719\t0/1 error=0.400\n",
      "Epoch 223\ttrain loss=6.819149\ttest loss=0.678228\t0/1 error=0.470\n",
      "Epoch 224\ttrain loss=6.855550\ttest loss=0.670444\t0/1 error=0.350\n",
      "Epoch 225\ttrain loss=6.799619\ttest loss=0.683982\t0/1 error=0.410\n",
      "Epoch 226\ttrain loss=6.883154\ttest loss=0.677048\t0/1 error=0.380\n",
      "Epoch 227\ttrain loss=6.871109\ttest loss=0.672065\t0/1 error=0.410\n",
      "Epoch 228\ttrain loss=6.893445\ttest loss=0.674308\t0/1 error=0.400\n",
      "Epoch 229\ttrain loss=6.967821\ttest loss=0.687109\t0/1 error=0.590\n",
      "Epoch 230\ttrain loss=6.999155\ttest loss=0.670178\t0/1 error=0.350\n",
      "Epoch 231\ttrain loss=6.884480\ttest loss=0.673129\t0/1 error=0.410\n",
      "Epoch 232\ttrain loss=6.808904\ttest loss=0.674824\t0/1 error=0.380\n",
      "Epoch 233\ttrain loss=6.904540\ttest loss=0.669728\t0/1 error=0.340\n",
      "Epoch 234\ttrain loss=6.928517\ttest loss=0.666390\t0/1 error=0.360\n",
      "Epoch 235\ttrain loss=6.914902\ttest loss=0.696008\t0/1 error=0.600\n",
      "Epoch 236\ttrain loss=6.870948\ttest loss=0.706525\t0/1 error=0.650\n",
      "Epoch 237\ttrain loss=6.922260\ttest loss=0.684807\t0/1 error=0.450\n",
      "Epoch 238\ttrain loss=6.842753\ttest loss=0.713305\t0/1 error=0.600\n",
      "Epoch 239\ttrain loss=6.793404\ttest loss=0.682027\t0/1 error=0.420\n",
      "Epoch 240\ttrain loss=6.949012\ttest loss=0.701671\t0/1 error=0.650\n",
      "Epoch 241\ttrain loss=6.891897\ttest loss=0.667082\t0/1 error=0.320\n",
      "Epoch 242\ttrain loss=6.839020\ttest loss=0.674260\t0/1 error=0.380\n",
      "Epoch 243\ttrain loss=6.794940\ttest loss=0.664401\t0/1 error=0.280\n",
      "Epoch 244\ttrain loss=6.789492\ttest loss=0.670947\t0/1 error=0.400\n",
      "Epoch 245\ttrain loss=6.841017\ttest loss=0.668574\t0/1 error=0.370\n",
      "Epoch 246\ttrain loss=6.865593\ttest loss=0.694682\t0/1 error=0.620\n",
      "Epoch 247\ttrain loss=6.887883\ttest loss=0.672523\t0/1 error=0.320\n",
      "Epoch 248\ttrain loss=6.819059\ttest loss=0.665009\t0/1 error=0.430\n",
      "Epoch 249\ttrain loss=6.960272\ttest loss=0.669478\t0/1 error=0.350\n",
      "Epoch 250\ttrain loss=6.905744\ttest loss=0.676550\t0/1 error=0.390\n"
     ]
    }
   ],
   "source": [
    "def forward(X):\n",
    "    H = torch.sigmoid(torch.mm(X, W) + b)\n",
    "    \n",
    "    return H\n",
    "\n",
    "\n",
    "def L(H, Y, eps=1e-08):\n",
    "    loss = -Y * torch.log(H + eps) - (1 - Y) * torch.log(1 - H + eps)  # log-likelikood\n",
    "\n",
    "    return loss\n",
    "\n",
    "\n",
    "n_epochs = 250\n",
    "epoch_n_batches = 100\n",
    "train_batch_size = 10\n",
    "alpha = 0.1\n",
    "alpha\n",
    "for i in range(n_epochs):\n",
    "\n",
    "    train_loss = 0.\n",
    "\n",
    "    for j in range(epoch_n_batches):\n",
    "\n",
    "        # Prepare next mini-batch\n",
    "        mb_idxs = torch.multinomial(torch.ones(n_train), train_batch_size, replacement=True)\n",
    "        X_mb = Variable(X_train[mb_idxs])\n",
    "        Y_mb = Variable(Y_train[mb_idxs])\n",
    "\n",
    "        # Forward pass\n",
    "        Y_prob_mb = forward(X_mb)\n",
    "        \n",
    "        loss_en_vecteur = L(Y_prob_mb, Y_mb)\n",
    "\n",
    "        # Backward pass\n",
    "        # print(loss_en_vecteur.data)\n",
    "        loss = torch.sum(loss_en_vecteur)\n",
    "        loss.backward()\n",
    "        \n",
    "        # Parameter update (gradient descent)\n",
    "        W.data.sub_(alpha * W.grad.data)\n",
    "        W.grad.data.zero_()  # must reset to 0 before next pass\n",
    "        \n",
    "        b.data.sub_(alpha * b.grad.data)\n",
    "        b.grad.data.zero_()  # must reset to 0 before next pass\n",
    "    \n",
    "        # print('Epoch {} h={:.05f} w={:.05f} b={:.05f}'.format(i+1, h.data[0], w.data[0], b.data[0]))\n",
    "\n",
    "\n",
    "        train_loss += loss.data[0]\n",
    "\n",
    "    train_loss /= epoch_n_batches\n",
    "\n",
    "    # Forward pass\n",
    "    Y_test_prob = forward(Variable(X_test)).data\n",
    "    test_loss = L(Y_test_prob, Y_test).mean()\n",
    "    \n",
    "    # Compute expected 0/1 error\n",
    "    Y_test_pred = (Y_test_prob > 0.5).type(torch.FloatTensor)\n",
    "    test_err = torch.abs(Y_test - Y_test_pred).mean()\n",
    "\n",
    "    print('Epoch {:03d}\\ttrain loss={:.06f}\\ttest loss={:.06f}\\t0/1 error={:.03f}'.format(\n",
    "        i + 1, train_loss, test_loss, test_err))"
   ]
  },
  {
   "cell_type": "markdown",
   "metadata": {},
   "source": [
    "Visualisez la distribution apprise par votre modèle:"
   ]
  },
  {
   "cell_type": "code",
   "execution_count": 47,
   "metadata": {
    "collapsed": false
   },
   "outputs": [
    {
     "data": {
      "image/png": "[encoded data removed]",
      "text/plain": [
       "<matplotlib.figure.Figure at 0x118a8c1d0>"
      ]
     },
     "metadata": {},
     "output_type": "display_data"
    }
   ],
   "source": [
    "map_size = (100, 100)\n",
    "x1, x2 = np.meshgrid(np.linspace(X_[:, 0].min()-0.1, X_[:, 0].max()+0.1, map_size[0]),\n",
    "                     np.linspace(X_[:, 1].min()-0.1, X_[:, 1].max()+0.1, map_size[1]))\n",
    "X_map = torch.from_numpy(np.asarray(np.c_[x1.ravel(), x2.ravel()], dtype='float32'))\n",
    "\n",
    "Y_prob_map = forward(Variable(X_map)).data\n",
    "\n",
    "Y_train_pred = (forward(Variable(X_train)).data > 0.5).type(torch.FloatTensor)\n",
    "train_err = torch.abs(Y_train - Y_train_pred).mean()\n",
    "\n",
    "Y_test_pred = (forward(Variable(X_test)).data > 0.5).type(torch.FloatTensor)\n",
    "test_err = torch.abs(Y_test - Y_test_pred).mean()\n",
    "\n",
    "fig, axes = plt.subplots(nrows=1, ncols=2, figsize=(16, 8), squeeze=False)\n",
    "axes[0, 0].set_title('train accuracy={:.03f}'.format(1 - train_err))\n",
    "axes[0, 0].contourf(\n",
    "    x1,\n",
    "    x2,\n",
    "    Y_prob_map.numpy().reshape(map_size),\n",
    "    cmap=cm, vmin=0, vmax=1,\n",
    "    alpha=.8)\n",
    "axes[0, 0].scatter(\n",
    "    X_train[:, 0].numpy(),\n",
    "    X_train[:, 1].numpy(),\n",
    "    c=Y_train[:, 0].numpy(),\n",
    "    cmap=cm_bright,\n",
    "    edgecolors='k')\n",
    "axes[0, 1].set_title('test accuracy={:.03f}'.format(1 - test_err))\n",
    "axes[0, 1].contourf(\n",
    "    x1,\n",
    "    x2,\n",
    "    Y_prob_map.numpy().reshape(map_size),\n",
    "    cmap=cm, vmin=0, vmax=1,\n",
    "    alpha=.8)\n",
    "axes[0, 1].scatter(\n",
    "    X_test[:, 0].numpy(),\n",
    "    X_test[:, 1].numpy(),\n",
    "    c=Y_test[:, 0].numpy(),\n",
    "    cmap=cm_bright,\n",
    "    edgecolors='k')\n",
    "plt.show()"
   ]
  },
  {
   "cell_type": "markdown",
   "metadata": {},
   "source": [
    "Ajoutez une couche cachée de taille 10 à votre réseau de neurones, avec la fonction d'activation relu."
   ]
  },
  {
   "cell_type": "markdown",
   "metadata": {},
   "source": [
    "Bonus: améliorez votre réseau de neurones: plus de neurones cachés, deuxième couche cachée etc."
   ]
  },
  {
   "cell_type": "code",
   "execution_count": 2,
   "metadata": {
    "collapsed": true
   },
   "outputs": [],
   "source": [
    "# TODO:"
   ]
  },
  {
   "cell_type": "code",
   "execution_count": 1,
   "metadata": {
    "collapsed": true
   },
   "outputs": [],
   "source": [
    "# TODO:"
   ]
  },
  {
   "cell_type": "markdown",
   "metadata": {
    "collapsed": true
   },
   "source": [
    "# MNIST\n",
    "\n",
    "Vous allez maintenant utiliser les fonctions haut niveau de pytorch: torch.nn, torch.optim etc.\n",
    "\n",
    "On commence par charger les données:"
   ]
  },
  {
   "cell_type": "code",
   "execution_count": 7,
   "metadata": {
    "collapsed": false
   },
   "outputs": [
    {
     "name": "stdout",
     "output_type": "stream",
     "text": [
      "Downloading http://yann.lecun.com/exdb/mnist/train-images-idx3-ubyte.gz\n",
      "Downloading http://yann.lecun.com/exdb/mnist/train-labels-idx1-ubyte.gz\n",
      "Downloading http://yann.lecun.com/exdb/mnist/t10k-images-idx3-ubyte.gz\n",
      "Downloading http://yann.lecun.com/exdb/mnist/t10k-labels-idx1-ubyte.gz\n",
      "Processing...\n",
      "Done!\n"
     ]
    }
   ],
   "source": [
    "import numpy as np\n",
    "import matplotlib.pyplot as plt\n",
    "%matplotlib inline\n",
    "\n",
    "from torchvision import datasets, transforms\n",
    "\n",
    "mnist_folder = '/Users/anilnarassiguin/MNIST_data/'\n",
    "\n",
    "train_data = datasets.MNIST(root=mnist_folder, download=True, transform=transforms.ToTensor(), train=True)\n",
    "test_data = datasets.MNIST(root=mnist_folder, download=True, transform=transforms.ToTensor(), train=False)"
   ]
  },
  {
   "cell_type": "code",
   "execution_count": 11,
   "metadata": {
    "collapsed": false
   },
   "outputs": [
    {
     "name": "stdout",
     "output_type": "stream",
     "text": [
      "Nombre d'images dans le train set: 60000\n",
      "Nombre d'images dans le train set: 10000\n"
     ]
    }
   ],
   "source": [
    "print(\"Nombre d'images dans le train set:\", len(train_data))\n",
    "print(\"Nombre d'images dans le train set:\", len(test_data))"
   ]
  },
  {
   "cell_type": "markdown",
   "metadata": {},
   "source": [
    "### Afficher quelques images"
   ]
  },
  {
   "cell_type": "code",
   "execution_count": 18,
   "metadata": {
    "collapsed": false
   },
   "outputs": [
    {
     "data": {
      "image/png": "[encoded data removed]",
      "text/plain": [
       "<matplotlib.figure.Figure at 0x11cd4b2e8>"
      ]
     },
     "metadata": {},
     "output_type": "display_data"
    }
   ],
   "source": [
    "fig, axes = plt.subplots(nrows=2, ncols=5, figsize=(8, 4), squeeze=False)\n",
    "seed = 123 # changer la seed pour afficher d'autres images\n",
    "\n",
    "for i in range(10):\n",
    "    r = i // 5\n",
    "    c = i % 5\n",
    "    np.random.seed(seed+i)\n",
    "    idx = np.random.choice(len(train_data), 1)[0]\n",
    "    x = train_data[idx][0].numpy()\n",
    "    y = train_data[idx][1]\n",
    "    axes[r, c].imshow(x[0, :, :])\n",
    "    axes[r, c].set_title('y={}'.format(y))\n",
    "    \n",
    "plt.show()"
   ]
  },
  {
   "cell_type": "markdown",
   "metadata": {},
   "source": [
    "### Modèle initial"
   ]
  },
  {
   "cell_type": "code",
   "execution_count": null,
   "metadata": {
    "collapsed": true
   },
   "outputs": [],
   "source": [
    "import torch\n",
    "import torch.nn as nn\n",
    "import torch.nn.functional as F\n",
    "import torch.optim as optim\n",
    "from torch.autograd import Variable\n",
    "from torch.utils.data import DataLoader\n",
    "\n",
    "# Training settings\n",
    "seed = 1337\n",
    "lr = 0.1\n",
    "epochs = 25\n",
    "train_batch_size = 50\n",
    "test_batch_size = 100\n",
    "\n",
    "torch.manual_seed(seed)\n",
    "\n",
    "train_loader = DataLoader(train_data, batch_size=train_batch_size, shuffle=True)\n",
    "test_loader = DataLoader(test_data, batch_size=test_batch_size, shuffle=False)\n",
    "\n",
    "class Net(nn.Module):\n",
    "    def __init__(self):\n",
    "        super(Net, self).__init__()\n",
    "        self.fc1 = nn.Linear(28*28, 10)\n",
    "\n",
    "    def forward(self, X):\n",
    "        X = X.view(-1, 28*28)  # flatten images\n",
    "        X = self.fc1(X)\n",
    "        return F.log_softmax(X)\n",
    "\n",
    "model = Net()\n",
    "\n",
    "optimizer = optim.SGD(model.parameters(), lr=lr)\n",
    "\n",
    "def train(epoch):\n",
    "\n",
    "    exp_loss = 0.\n",
    "    n_processed = 0\n",
    "\n",
    "    model.train()\n",
    "    for X, Y in train_loader:\n",
    "        X, Y = Variable(X), Variable(Y)\n",
    "        \n",
    "        # Forward pass\n",
    "        Y_pred_prob = model(X)\n",
    "\n",
    "        # Compute expected loss\n",
    "        loss = F.nll_loss(Y_pred_prob, Y)\n",
    "        \n",
    "        # Backward pass\n",
    "        loss.backward()\n",
    "        \n",
    "        # Parameter update (gradient descent)\n",
    "        optimizer.step()\n",
    "        optimizer.zero_grad()\n",
    "\n",
    "        # exp_loss.data[0] += loss * X.data.shape[0]\n",
    "        exp_loss += loss * X.data.shape[0]\n",
    "        n_processed += X.data.shape[0]\n",
    "    \n",
    "    exp_loss /= n_processed\n",
    "    return exp_loss\n",
    "\n",
    "def test():\n",
    "    test_loss = 0\n",
    "    test_error = 0\n",
    "    \n",
    "    model.eval()\n",
    "    for X, Y in test_loader:\n",
    "        X, Y = Variable(X, volatile=True), Variable(Y)\n",
    "        \n",
    "        # Forward pass\n",
    "        Y_pred_prob = model(X)\n",
    "        \n",
    "        # Compute the expected negative log-likelihood\n",
    "        test_loss += F.nll_loss(Y_pred_prob, Y, size_average=False).data[0]\n",
    "        \n",
    "        # Get the mode of p(y|x) (most probable digit)\n",
    "        Y_pred = Y_pred_prob.data.max(1, keepdim=True)[1]\n",
    "        \n",
    "        # Compute the expected 0/1 error\n",
    "        test_error += (1 - Y_pred.eq(Y.data.view_as(Y_pred))).sum()\n",
    "\n",
    "    test_loss /= len(test_loader.dataset)\n",
    "    test_error /= len(test_loader.dataset)\n",
    "\n",
    "    return test_loss, test_error\n",
    "\n",
    "\n",
    "for epoch in range(1, epochs + 1):\n",
    "    \n",
    "    print('Epoch {}...'.format(epoch))\n",
    "    \n",
    "    train_loss = train(epoch)\n",
    "    print('Train negative log-likelihood: {:.6f}'.format(train_loss.data[0]))\n",
    "    \n",
    "    test_loss, test_error = test()\n",
    "    print('Test  negative log-likelihood: {:.6f} 0/1 error: {:.6f}'.format(test_loss, test_error))\n"
   ]
  },
  {
   "cell_type": "markdown",
   "metadata": {},
   "source": [
    "Jouez avec les paramètres suivants:\n",
    "- lr\n",
    "- epochs\n",
    "- train_batch_size\n",
    "\n",
    "Quelle est la meilleure performance (0/1 error) que vous arrivez à atteindre?"
   ]
  },
  {
   "cell_type": "markdown",
   "metadata": {},
   "source": [
    "## Améliorez votre modèle\n",
    "\n",
    "Améliorez votre modèle afin de diminuer l'erreur sur le jeu de test. Essayez différentes architectures / hyperparamètres et à chaque fois reportez vos résultats.\n",
    "\n",
    "Objectif: passer sous les 1% d'erreur: http://yann.lecun.com/exdb/mnist/\n",
    "\n",
    "Pistes à essayer:\n",
    "- plus de couches cachées\n",
    "- convolutions + max pooling\n",
    "- dropout\n",
    "- couches résiduelles\n",
    "\n",
    "Astuces:\n",
    "- changer l'algorithme de descente de gradient (Adam)\n",
    "- implémentez une stratégie d'early stopping: $n$ epochs sans amélioration -> arret\n",
    "- implémentez une stratégie de diminution du learning rate: $n/2$ epochs sans amélioration -> $\\alpha = \\alpha / 2$ (torch.optim.lr_scheduler.ReduceLROnPlateau)"
   ]
  },
  {
   "cell_type": "code",
   "execution_count": 3,
   "metadata": {
    "collapsed": true
   },
   "outputs": [],
   "source": [
    "# TODO :"
   ]
  },
  {
   "cell_type": "markdown",
   "metadata": {
    "collapsed": true
   },
   "source": [
    "## NLP: N-Gram Language Modeling\n",
    "\n",
    "Modèle NGram: sachant les mots $n$ précédents on veut prédire le prochain mot:\n",
    "\n",
    "\\begin{equation*}\n",
    "P(w_i | w_{i-1}, w_{i-2}, \\dots, w_{i-n+1})\n",
    "\\end{equation*}\n",
    "\n",
    "Où $w_i$ est le ième mot d'une phrase.\n",
    "\n",
    "Veuillez considérer de modèle de prédiction de trigram suivant :"
   ]
  },
  {
   "cell_type": "code",
   "execution_count": null,
   "metadata": {
    "collapsed": true
   },
   "outputs": [],
   "source": [
    "CONTEXT_SIZE = 2\n",
    "EMBEDDING_DIM = 10\n",
    "# We will use Shakespeare Sonnet 2\n",
    "test_sentence = \"\"\"When forty winters shall besiege thy brow,\n",
    "And dig deep trenches in thy beauty's field,\n",
    "Thy youth's proud livery so gazed on now,\n",
    "Will be a totter'd weed of small worth held:\n",
    "Then being asked, where all thy beauty lies,\n",
    "Where all the treasure of thy lusty days;\n",
    "To say, within thine own deep sunken eyes,\n",
    "Were an all-eating shame, and thriftless praise.\n",
    "How much more praise deserv'd thy beauty's use,\n",
    "If thou couldst answer 'This fair child of mine\n",
    "Shall sum my count, and make my old excuse,'\n",
    "Proving his beauty by succession thine!\n",
    "This were to be new made when thou art old,\n",
    "And see thy blood warm when thou feel'st it cold.\"\"\".split()\n",
    "# we should tokenize the input, but we will ignore that for now\n",
    "# build a list of tuples.  Each tuple is ([ word_i-2, word_i-1 ], target word)\n",
    "trigrams = [([test_sentence[i], test_sentence[i + 1]], test_sentence[i + 2])\n",
    "            for i in range(len(test_sentence) - 2)]\n",
    "# print the first 3, just so you can see what they look like\n",
    "print(trigrams[:3])\n",
    "\n",
    "vocab = set(test_sentence)\n",
    "word_to_ix = {word: i for i, word in enumerate(vocab)}\n",
    "\n",
    "\n",
    "class NGramLanguageModeler(nn.Module):\n",
    "\n",
    "    def __init__(self, vocab_size, embedding_dim, context_size):\n",
    "        super(NGramLanguageModeler, self).__init__()\n",
    "        self.embeddings = nn.Embedding(vocab_size, embedding_dim)\n",
    "        self.linear1 = nn.Linear(context_size * embedding_dim, 128)\n",
    "        self.linear2 = nn.Linear(128, vocab_size)\n",
    "\n",
    "    def forward(self, inputs):\n",
    "        embeds = self.embeddings(inputs).view((1, -1))\n",
    "        out = F.relu(self.linear1(embeds))\n",
    "        out = self.linear2(out)\n",
    "        log_probs = F.log_softmax(out)\n",
    "        return log_probs\n",
    "\n",
    "\n",
    "losses = []\n",
    "loss_function = nn.NLLLoss()\n",
    "model = NGramLanguageModeler(len(vocab), EMBEDDING_DIM, CONTEXT_SIZE)\n",
    "optimizer = optim.SGD(model.parameters(), lr=0.01)\n",
    "\n",
    "for epoch in range(1000):\n",
    "    total_loss = torch.Tensor([0])\n",
    "    for context, target in trigrams:\n",
    "\n",
    "        # Step 1. Prepare the inputs to be passed to the model (i.e, turn the words\n",
    "        # into integer indices and wrap them in variables)\n",
    "        context_idxs = [word_to_ix[w] for w in context]\n",
    "        context_var = Variable(torch.LongTensor(context_idxs))\n",
    "\n",
    "        # Step 2. Recall that torch *accumulates* gradients. Before passing in a\n",
    "        # new instance, you need to zero out the gradients from the old\n",
    "        # instance\n",
    "        model.zero_grad()\n",
    "\n",
    "        # Step 3. Run the forward pass, getting log probabilities over next\n",
    "        # words\n",
    "        log_probs = model(context_var)\n",
    "\n",
    "        # Step 4. Compute your loss function. (Again, Torch wants the target\n",
    "        # word wrapped in a variable)\n",
    "        loss = loss_function(log_probs, Variable(\n",
    "            torch.LongTensor([word_to_ix[target]])))\n",
    "\n",
    "        # Step 5. Do the backward pass and update the gradient\n",
    "        loss.backward()\n",
    "        optimizer.step()\n",
    "\n",
    "        total_loss += loss.data\n",
    "    losses.append(total_loss)\n",
    "print(losses)  # The loss decreased every iteration over the training data!"
   ]
  },
  {
   "cell_type": "markdown",
   "metadata": {},
   "source": [
    "### Utilisez vos propres valeurs pour context"
   ]
  },
  {
   "cell_type": "code",
   "execution_count": 78,
   "metadata": {
    "collapsed": false
   },
   "outputs": [
    {
     "name": "stdout",
     "output_type": "stream",
     "text": [
      "['own', 'deep'] sunken\n"
     ]
    }
   ],
   "source": [
    "# context = # TODO\n",
    "context = ['own', 'deep']\n",
    "context_idxs = [word_to_ix[w] for w in context]\n",
    "context_var = Variable(torch.LongTensor(context_idxs))\n",
    "log_probs = model(context_var)\n",
    "print(context, list(vocab)[torch.max(log_probs, 1)[1].data[0]])"
   ]
  },
  {
   "cell_type": "markdown",
   "metadata": {},
   "source": [
    "## CBOW: Continuous Bag-of-Words\n",
    "CBOW = Prédire un mot sachant les mots d'avant et les mots d'après.\n",
    "\n",
    "Exercice : en utilisant l'exemple précédent, codez un modèle CBOW."
   ]
  },
  {
   "cell_type": "code",
   "execution_count": 110,
   "metadata": {
    "collapsed": true
   },
   "outputs": [],
   "source": [
    "def make_context_vector(context, word_to_ix):\n",
    "    idxs = [word_to_ix[w] for w in context]\n",
    "    tensor = torch.LongTensor(idxs)\n",
    "    return Variable(tensor)\n",
    "\n",
    "CONTEXT_SIZE = 2  # 2 words to the left, 2 to the right\n",
    "EMBEDDING_DIM = 10\n",
    "raw_text = \"\"\"We are about to study the idea of a computational process.\n",
    "Computational processes are abstract beings that inhabit computers.\n",
    "As they evolve, processes manipulate other abstract things called data.\n",
    "The evolution of a process is directed by a pattern of rules\n",
    "called a program. People create programs to direct processes. In effect,\n",
    "we conjure the spirits of the computer with our spells.\"\"\".split()\n",
    "\n",
    "# By deriving a set from `raw_text`, we deduplicate the array\n",
    "vocab = set(raw_text)\n",
    "vocab_size = len(vocab)\n",
    "\n",
    "word_to_ix = {word: i for i, word in enumerate(vocab)}\n",
    "data = []\n",
    "for i in range(2, len(raw_text) - 2):\n",
    "    context = [raw_text[i - 2], raw_text[i - 1],\n",
    "               raw_text[i + 1], raw_text[i + 2]]\n",
    "    target = raw_text[i]\n",
    "    data.append((context, target))\n",
    "print(data[:5])\n",
    "\n",
    "class CBOW(nn.Module):\n",
    "\n",
    "    def __init__(self):\n",
    "        pass\n",
    "\n",
    "    def forward(self, inputs):\n",
    "        pass"
   ]
  },
  {
   "cell_type": "code",
   "execution_count": null,
   "metadata": {
    "collapsed": true
   },
   "outputs": [],
   "source": []
  }
 ],
 "metadata": {
  "kernelspec": {
   "display_name": "Python 3",
   "language": "python",
   "name": "python3"
  },
  "language_info": {
   "codemirror_mode": {
    "name": "ipython",
    "version": 3
   },
   "file_extension": ".py",
   "mimetype": "text/x-python",
   "name": "python",
   "nbconvert_exporter": "python",
   "pygments_lexer": "ipython3",
   "version": "3.6.0"
  }
 },
 "nbformat": 4,
 "nbformat_minor": 2
}
